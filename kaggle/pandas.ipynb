{
 "cells": [
  {
   "cell_type": "markdown",
   "id": "2c65f32d-a34d-481c-874f-51b6e5ebbba2",
   "metadata": {},
   "source": [
    "<h1>Pandas</h1>"
   ]
  },
  {
   "cell_type": "markdown",
   "id": "630875c7-aaef-43ed-ad28-400b636ea017",
   "metadata": {},
   "source": [
    "<h2>5.1 Introduction to pandas data structures</h2>"
   ]
  },
  {
   "cell_type": "markdown",
   "id": "995dcb59-89c1-4987-a009-0913bf3b7156",
   "metadata": {},
   "source": [
    "<h3>Series</h3>"
   ]
  },
  {
   "cell_type": "markdown",
   "id": "36c2e513-124a-4e23-867a-69fae68dd82f",
   "metadata": {},
   "source": [
    "Series: one dimensional array-like object containing a sequence of values, with an asociated array of data labels (index)"
   ]
  },
  {
   "cell_type": "code",
   "execution_count": 1,
   "id": "d396b378-b58a-46ff-bcfb-bb622a054844",
   "metadata": {},
   "outputs": [],
   "source": [
    "import pandas as pd"
   ]
  },
  {
   "cell_type": "code",
   "execution_count": 2,
   "id": "73a54d20-074e-4ce1-b9a0-da96d3d08bb3",
   "metadata": {},
   "outputs": [
    {
     "data": {
      "text/plain": [
       "0    1\n",
       "1    2\n",
       "2    3\n",
       "3    4\n",
       "4    5\n",
       "dtype: int64"
      ]
     },
     "execution_count": 2,
     "metadata": {},
     "output_type": "execute_result"
    }
   ],
   "source": [
    "ser=pd.Series([1,2,3,4,5])\n",
    "ser"
   ]
  },
  {
   "cell_type": "code",
   "execution_count": 3,
   "id": "f3129e6d-50d6-4f68-8306-49867b6fdff7",
   "metadata": {},
   "outputs": [
    {
     "data": {
      "text/plain": [
       "1    1\n",
       "3    2\n",
       "5    3\n",
       "7    4\n",
       "9    5\n",
       "dtype: int64"
      ]
     },
     "execution_count": 3,
     "metadata": {},
     "output_type": "execute_result"
    }
   ],
   "source": [
    "ser=pd.Series([1,2,3,4,5],index=[1,3,5,7,9])\n",
    "ser"
   ]
  },
  {
   "cell_type": "code",
   "execution_count": 7,
   "id": "0b4c3673-35a1-43b1-9040-208b2eb496a9",
   "metadata": {},
   "outputs": [
    {
     "data": {
      "text/plain": [
       "1    NaN\n",
       "3    NaN\n",
       "5    NaN\n",
       "7    NaN\n",
       "9    NaN\n",
       "dtype: object"
      ]
     },
     "execution_count": 7,
     "metadata": {},
     "output_type": "execute_result"
    }
   ],
   "source": [
    "ser=pd.Series({'even':[0,2,4,6,8]},index=[1,3,5,7,9])\n",
    "ser"
   ]
  },
  {
   "cell_type": "code",
   "execution_count": 8,
   "id": "e4dcbdce-ecc5-43f0-b921-182fade2be43",
   "metadata": {},
   "outputs": [
    {
     "data": {
      "text/plain": [
       "1    0\n",
       "3    2\n",
       "5    4\n",
       "7    6\n",
       "9    8\n",
       "Name: even, dtype: int64"
      ]
     },
     "execution_count": 8,
     "metadata": {},
     "output_type": "execute_result"
    }
   ],
   "source": [
    "ser=pd.Series([0,2,4,6,8],index=[1,3,5,7,9],name='even')\n",
    "ser"
   ]
  },
  {
   "cell_type": "code",
   "execution_count": null,
   "id": "4546ce7d-8d87-4721-90fc-8a5f9fff7a53",
   "metadata": {},
   "outputs": [],
   "source": [
    "#loc-iloc\n",
    "reviews.iloc[0]\n",
    "reviews.iloc[:, 0]\n",
    "reviews.iloc[[0, 1, 2], 0]"
   ]
  },
  {
   "cell_type": "code",
   "execution_count": null,
   "id": "40e649a9-2084-401c-887b-bb65d6fca7a5",
   "metadata": {},
   "outputs": [],
   "source": [
    "reviews.loc[0, 'country']\n",
    "reviews.loc[:, ['taster_name', 'taster_twitter_handle', 'points']]\n"
   ]
  },
  {
   "cell_type": "code",
   "execution_count": null,
   "id": "ac6c5366-3d8f-4dfc-8daf-91adb5414755",
   "metadata": {},
   "outputs": [],
   "source": [
    "# boolean list True if country=='italy'\n",
    "reviews.country == 'Italy'\n",
    "# filter df with boolean list\n",
    "reviews.loc[reviews.country == 'Italy']\n",
    "# &=and operator\n",
    "reviews.loc[(reviews.country == 'Italy') & (reviews.points >= 90)]\n",
    "# |=or operator\n",
    "reviews.loc[(reviews.country == 'Italy') | (reviews.points >= 90)]\n",
    "# is in list\n",
    "reviews.loc[reviews.country.isin(['Italy', 'France'])]\n",
    "# is null or not null (NaN, None)\n",
    "reviews.loc[reviews.price.notnull()]\n",
    "reviews.loc[reviews.price.isnull()]"
   ]
  },
  {
   "cell_type": "code",
   "execution_count": null,
   "id": "e242c37f-53f4-4b25-af52-b78aa577aa38",
   "metadata": {},
   "outputs": [],
   "source": [
    "# assign data\n",
    "reviews['critic'] = 'everyone'\n",
    "reviews['critic']\n",
    "# add a column and assign list\n",
    "reviews['index_backwards'] = range(len(reviews), 0, -1)\n",
    "reviews['index_backwards']\n"
   ]
  },
  {
   "cell_type": "code",
   "execution_count": null,
   "id": "07595b85-ea1d-44ed-9e76-883f1173dbcf",
   "metadata": {},
   "outputs": [],
   "source": [
    "# summary functions\n",
    "reviews.points.describe()\n",
    "reviews.points.mean()\n",
    "reviews.taster_name.unique()\n",
    "reviews.taster_name.value_counts()"
   ]
  },
  {
   "cell_type": "code",
   "execution_count": 3,
   "id": "92c19533-621d-4e8a-b529-122c9a255bb9",
   "metadata": {},
   "outputs": [
    {
     "data": {
      "text/plain": [
       "['This is ripe and fruity, a wine that is tropical',\n",
       " 'Tart and snappy, the flavors of lime flesh and tropical',\n",
       " 'Pineapple rind, lemon pith and orange blossom',\n",
       " 'Much like the regular bottling from fruity, this']"
      ]
     },
     "execution_count": 3,
     "metadata": {},
     "output_type": "execute_result"
    }
   ],
   "source": [
    "\n",
    "\n",
    "descriptions=['This is ripe and fruity, a wine that is tropical','Tart and snappy, the flavors of lime flesh and tropical','Pineapple rind, lemon pith and orange blossom','Much like the regular bottling from fruity, this']\n",
    "descriptions"
   ]
  },
  {
   "cell_type": "code",
   "execution_count": 12,
   "id": "13fbf528-f056-4a8b-bdd9-42cd7a2cf59d",
   "metadata": {},
   "outputs": [],
   "source": [
    "def find_word_in_desc(description=[],adj='tropical'):\n",
    "    in_list=[]\n",
    "    for desc in description:\n",
    "        if adj in str(desc):\n",
    "            in_list.append(True)\n",
    "        else:\n",
    "            in_list.append(False)\n",
    "    return in_list"
   ]
  },
  {
   "cell_type": "code",
   "execution_count": 13,
   "id": "cee10006-fae7-4d8c-85ba-df9d118088df",
   "metadata": {},
   "outputs": [
    {
     "data": {
      "text/plain": [
       "[True, True, False, False]"
      ]
     },
     "execution_count": 13,
     "metadata": {},
     "output_type": "execute_result"
    }
   ],
   "source": [
    "find_word_in_desc(descriptions,'tropical')"
   ]
  },
  {
   "cell_type": "code",
   "execution_count": null,
   "id": "b52dbc38-d762-4207-bacb-1e1514648978",
   "metadata": {},
   "outputs": [],
   "source": [
    "# Grouping\n",
    "reviews.groupby('points').points.count()\n",
    "reviews.groupby('points').price.min()\n",
    "reviews.groupby('winery').apply(lambda df: df.title.iloc[0])\n",
    "reviews.groupby(['country', 'province']).apply(lambda df: df.loc[df.points.idxmax()])\n",
    "# agregate several functions\n",
    "reviews.groupby(['country']).price.agg([len, min, max])\n",
    "# Multi-index\n",
    "countries_reviewed = reviews.groupby(['country', 'province']).description.agg([len])\n",
    "countries_reviewed\n",
    "countries_reviewed.reset_index()"
   ]
  },
  {
   "cell_type": "code",
   "execution_count": null,
   "id": "fe806242-5aec-4766-9c7a-64e77a0138a3",
   "metadata": {},
   "outputs": [],
   "source": [
    "# Sorting\n",
    "countries_reviewed.sort_values(by='len')\n",
    "countries_reviewed.sort_values(by='len', ascending=False)\n",
    "# return to index sorting\n",
    "countries_reviewed.sort_index()\n",
    "# several sorts\n",
    "countries_reviewed.sort_values(by=['country', 'len'])\n"
   ]
  },
  {
   "cell_type": "code",
   "execution_count": null,
   "id": "50b7bbbc-0889-4e1e-bac0-980179043b8a",
   "metadata": {},
   "outputs": [],
   "source": [
    "# Types\n",
    "reviews.price.dtype\n",
    "reviews.points.astype('float64')\n"
   ]
  },
  {
   "cell_type": "code",
   "execution_count": null,
   "id": "78ed6c0b-af61-4a07-95d1-ed880b964671",
   "metadata": {},
   "outputs": [],
   "source": [
    "# Missing data\n",
    "reviews[pd.isnull(reviews.country)]\n",
    "reviews.region_2.fillna(\"Unknown\")\n",
    "reviews.taster_twitter_handle.replace(\"@kerinokeefe\", \"@kerino\")"
   ]
  },
  {
   "cell_type": "code",
   "execution_count": null,
   "id": "c55df8f9-df41-4e69-b401-f17524465c6b",
   "metadata": {},
   "outputs": [],
   "source": [
    "# renaming columns\n",
    "reviews.rename(columns={'points': 'score'})\n",
    "# renaming row index\n",
    "reviews.rename(index={0: 'firstEntry', 1: 'secondEntry'})\n",
    "# change axis names\n",
    "reviews.rename_axis(\"wines\", axis='rows').rename_axis(\"fields\", axis='columns')"
   ]
  },
  {
   "cell_type": "code",
   "execution_count": null,
   "id": "d065bd25-e8c6-453d-97da-bd52a9d8ddad",
   "metadata": {},
   "outputs": [],
   "source": [
    "# combining df\n",
    "# concat(). Diferent df same columns each\n",
    "pd.concat([canadian_youtube, british_youtube])\n",
    "# join(). Diferent df with the same index\n",
    "left = canadian_youtube.set_index(['title', 'trending_date'])\n",
    "right = british_youtube.set_index(['title', 'trending_date'])\n",
    "\n",
    "left.join(right, lsuffix='_CAN', rsuffix='_UK')"
   ]
  }
 ],
 "metadata": {
  "kernelspec": {
   "display_name": "Python 3 (ipykernel)",
   "language": "python",
   "name": "python3"
  },
  "language_info": {
   "codemirror_mode": {
    "name": "ipython",
    "version": 3
   },
   "file_extension": ".py",
   "mimetype": "text/x-python",
   "name": "python",
   "nbconvert_exporter": "python",
   "pygments_lexer": "ipython3",
   "version": "3.10.1"
  }
 },
 "nbformat": 4,
 "nbformat_minor": 5
}
