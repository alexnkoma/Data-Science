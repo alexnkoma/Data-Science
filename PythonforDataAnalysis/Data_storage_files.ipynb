{
 "cells": [
  {
   "cell_type": "markdown",
   "id": "3e2d0b8b-b4e0-453d-a8d8-5d4c91f80ec4",
   "metadata": {},
   "source": [
    "<h1>Data loading, storage and file formats</h1>"
   ]
  },
  {
   "cell_type": "code",
   "execution_count": null,
   "id": "736e6df3-47d4-4fba-93eb-e023e3e18dc8",
   "metadata": {},
   "outputs": [],
   "source": []
  }
 ],
 "metadata": {
  "kernelspec": {
   "display_name": "Python 3 (ipykernel)",
   "language": "python",
   "name": "python3"
  },
  "language_info": {
   "codemirror_mode": {
    "name": "ipython",
    "version": 3
   },
   "file_extension": ".py",
   "mimetype": "text/x-python",
   "name": "python",
   "nbconvert_exporter": "python",
   "pygments_lexer": "ipython3",
   "version": "3.10.1"
  }
 },
 "nbformat": 4,
 "nbformat_minor": 5
}
