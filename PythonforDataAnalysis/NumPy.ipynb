{
 "cells": [
  {
   "cell_type": "markdown",
   "id": "41df00f4-b8ec-4560-ac6f-be17865b613f",
   "metadata": {},
   "source": [
    "<h1>Numpy</h1>"
   ]
  },
  {
   "cell_type": "markdown",
   "id": "dfc8efc3",
   "metadata": {},
   "source": [
    "Import numpy"
   ]
  },
  {
   "cell_type": "code",
   "execution_count": 1,
   "id": "f57f7050",
   "metadata": {},
   "outputs": [],
   "source": [
    "import numpy as np"
   ]
  },
  {
   "cell_type": "markdown",
   "id": "5ac2218f",
   "metadata": {},
   "source": [
    "<h2>4.1 ndarrays</h2>"
   ]
  },
  {
   "cell_type": "code",
   "execution_count": 2,
   "id": "64ae3b64",
   "metadata": {},
   "outputs": [
    {
     "data": {
      "text/plain": [
       "array([['', ''],\n",
       "       ['', ''],\n",
       "       ['', '']], dtype='<U1')"
      ]
     },
     "execution_count": 2,
     "metadata": {},
     "output_type": "execute_result"
    }
   ],
   "source": [
    "arr_vacio=np.empty((3,2), dtype=np.compat.unicode)\n",
    "arr_vacio"
   ]
  },
  {
   "cell_type": "code",
   "execution_count": 3,
   "id": "4bce825d",
   "metadata": {},
   "outputs": [
    {
     "data": {
      "text/plain": [
       "array([93986634504747,              0, 94006643415168, 94006643781248,\n",
       "                   48])"
      ]
     },
     "execution_count": 3,
     "metadata": {},
     "output_type": "execute_result"
    }
   ],
   "source": [
    "arr1=np.empty_like([1,1,1,1,1])\n",
    "arr1"
   ]
  },
  {
   "cell_type": "code",
   "execution_count": 4,
   "id": "c4a5365a",
   "metadata": {},
   "outputs": [
    {
     "data": {
      "text/plain": [
       "array([[1., 1., 1., 1.],\n",
       "       [1., 1., 1., 1.],\n",
       "       [1., 1., 1., 1.]])"
      ]
     },
     "execution_count": 4,
     "metadata": {},
     "output_type": "execute_result"
    }
   ],
   "source": [
    "arr_ones34=np.ones((3,4))\n",
    "arr_ones34"
   ]
  },
  {
   "cell_type": "code",
   "execution_count": 5,
   "id": "0a5f5e39",
   "metadata": {},
   "outputs": [
    {
     "data": {
      "text/plain": [
       "dtype('float64')"
      ]
     },
     "execution_count": 5,
     "metadata": {},
     "output_type": "execute_result"
    }
   ],
   "source": [
    "arr_ones34.dtype"
   ]
  },
  {
   "cell_type": "code",
   "execution_count": 6,
   "id": "f193a6d5",
   "metadata": {},
   "outputs": [
    {
     "data": {
      "text/plain": [
       "array([[1, 1, 1, 1],\n",
       "       [1, 1, 1, 1],\n",
       "       [1, 1, 1, 1]], dtype=int16)"
      ]
     },
     "execution_count": 6,
     "metadata": {},
     "output_type": "execute_result"
    }
   ],
   "source": [
    "arr_ones34_int=np.ones((3,4),dtype=np.short)\n",
    "arr_ones34_int"
   ]
  },
  {
   "cell_type": "code",
   "execution_count": 7,
   "id": "b251ceae",
   "metadata": {},
   "outputs": [
    {
     "data": {
      "text/plain": [
       "array([1, 1, 1, 1, 1])"
      ]
     },
     "execution_count": 7,
     "metadata": {},
     "output_type": "execute_result"
    }
   ],
   "source": [
    "list_1=[1,2,3,4,5]\n",
    "arr_ones2=np.ones_like(list_1)\n",
    "arr_ones2"
   ]
  },
  {
   "cell_type": "code",
   "execution_count": 8,
   "id": "95fffec5",
   "metadata": {},
   "outputs": [
    {
     "data": {
      "text/plain": [
       "array([0, 0, 0, 0, 0])"
      ]
     },
     "execution_count": 8,
     "metadata": {},
     "output_type": "execute_result"
    }
   ],
   "source": [
    "arr_z33=np.zeros((3,3))\n",
    "arr_z33\n",
    "arr_z1=np.zeros_like(list_1)\n",
    "arr_z1"
   ]
  },
  {
   "cell_type": "code",
   "execution_count": 9,
   "id": "e236bf45",
   "metadata": {},
   "outputs": [
    {
     "data": {
      "text/plain": [
       "array([[0., 0., 0.],\n",
       "       [0., 0., 0.],\n",
       "       [0., 0., 0.]])"
      ]
     },
     "execution_count": 9,
     "metadata": {},
     "output_type": "execute_result"
    }
   ],
   "source": [
    "arr_z33"
   ]
  },
  {
   "cell_type": "code",
   "execution_count": 10,
   "id": "71726077",
   "metadata": {},
   "outputs": [
    {
     "data": {
      "text/plain": [
       "array([[1., 0., 0.],\n",
       "       [0., 1., 0.],\n",
       "       [0., 0., 1.]])"
      ]
     },
     "execution_count": 10,
     "metadata": {},
     "output_type": "execute_result"
    }
   ],
   "source": [
    "arr_id3=np.identity(3)\n",
    "arr_id3"
   ]
  },
  {
   "cell_type": "markdown",
   "id": "a7c4b3a3",
   "metadata": {},
   "source": [
    "(Identity only for main diagonal and square matrix)"
   ]
  },
  {
   "cell_type": "code",
   "execution_count": 11,
   "id": "ecb92f24",
   "metadata": {},
   "outputs": [
    {
     "data": {
      "text/plain": [
       "array([[0., 1., 0.],\n",
       "       [0., 0., 1.],\n",
       "       [0., 0., 0.]])"
      ]
     },
     "execution_count": 11,
     "metadata": {},
     "output_type": "execute_result"
    }
   ],
   "source": [
    "arr_i3=np.eye(3,k=1)\n",
    "arr_i3"
   ]
  },
  {
   "cell_type": "code",
   "execution_count": 12,
   "id": "22f50959",
   "metadata": {},
   "outputs": [
    {
     "data": {
      "text/plain": [
       "array([[0., 0., 0.],\n",
       "       [1., 0., 0.],\n",
       "       [0., 1., 0.]])"
      ]
     },
     "execution_count": 12,
     "metadata": {},
     "output_type": "execute_result"
    }
   ],
   "source": [
    "arr_i3b=np.eye(3, k=-1)\n",
    "arr_i3b"
   ]
  },
  {
   "cell_type": "code",
   "execution_count": 13,
   "id": "4d5489b1",
   "metadata": {},
   "outputs": [
    {
     "data": {
      "text/plain": [
       "array([0, 1, 2, 3, 4, 5, 6, 7, 8, 9])"
      ]
     },
     "execution_count": 13,
     "metadata": {},
     "output_type": "execute_result"
    }
   ],
   "source": [
    "arr_sec1=np.arange(10)\n",
    "arr_sec1"
   ]
  },
  {
   "cell_type": "code",
   "execution_count": 14,
   "id": "a10d8330",
   "metadata": {},
   "outputs": [
    {
     "data": {
      "text/plain": [
       "array([ 2,  4,  6,  8, 10, 12, 14, 16, 18])"
      ]
     },
     "execution_count": 14,
     "metadata": {},
     "output_type": "execute_result"
    }
   ],
   "source": [
    "arr_sec2=np.arange(2,20,2)\n",
    "arr_sec2"
   ]
  },
  {
   "cell_type": "code",
   "execution_count": 15,
   "id": "4ff19fb2",
   "metadata": {
    "tags": []
   },
   "outputs": [
    {
     "data": {
      "text/plain": [
       "dtype('int64')"
      ]
     },
     "execution_count": 15,
     "metadata": {},
     "output_type": "execute_result"
    }
   ],
   "source": [
    "arr_sec2.dtype"
   ]
  },
  {
   "cell_type": "code",
   "execution_count": 16,
   "id": "caf499e7",
   "metadata": {},
   "outputs": [
    {
     "data": {
      "text/plain": [
       "array([ 0,  3,  6,  9, 12, 15, 18, 21])"
      ]
     },
     "execution_count": 16,
     "metadata": {},
     "output_type": "execute_result"
    }
   ],
   "source": [
    "arr_sec3=np.arange(0,22,3)\n",
    "arr_sec3"
   ]
  },
  {
   "cell_type": "code",
   "execution_count": 17,
   "id": "b12707f9",
   "metadata": {},
   "outputs": [],
   "source": [
    "arr_sec3_int8=np.array(arr_sec3, dtype=np.int8)"
   ]
  },
  {
   "cell_type": "code",
   "execution_count": 18,
   "id": "8f27cbd2",
   "metadata": {},
   "outputs": [
    {
     "data": {
      "text/plain": [
       "dtype('int8')"
      ]
     },
     "execution_count": 18,
     "metadata": {},
     "output_type": "execute_result"
    }
   ],
   "source": [
    "arr_sec3_int8.dtype"
   ]
  },
  {
   "cell_type": "code",
   "execution_count": 19,
   "id": "ea3dd33e",
   "metadata": {},
   "outputs": [
    {
     "data": {
      "text/plain": [
       "array(['0', '3', '6', '9', '12', '15', '18', '21'], dtype='<U21')"
      ]
     },
     "execution_count": 19,
     "metadata": {},
     "output_type": "execute_result"
    }
   ],
   "source": [
    "arr_sec3_str=np.array(arr_sec3, dtype=str)\n",
    "arr_sec3_str"
   ]
  },
  {
   "cell_type": "code",
   "execution_count": 20,
   "id": "95472702",
   "metadata": {},
   "outputs": [],
   "source": [
    "data2 = [[1, 2, 3, 4], [5, 6, 7, 8]]"
   ]
  },
  {
   "cell_type": "code",
   "execution_count": 21,
   "id": "2045abf1",
   "metadata": {},
   "outputs": [
    {
     "data": {
      "text/plain": [
       "[[1, 2, 3, 4], [5, 6, 7, 8]]"
      ]
     },
     "execution_count": 21,
     "metadata": {},
     "output_type": "execute_result"
    }
   ],
   "source": [
    "data2"
   ]
  },
  {
   "cell_type": "markdown",
   "id": "0299d26b",
   "metadata": {},
   "source": [
    "<h3>ndarrays properties</h3>"
   ]
  },
  {
   "cell_type": "code",
   "execution_count": 22,
   "id": "969c2f7e",
   "metadata": {},
   "outputs": [],
   "source": [
    "arr_data2=np.array(data2)"
   ]
  },
  {
   "cell_type": "code",
   "execution_count": 23,
   "id": "f752cc8a",
   "metadata": {},
   "outputs": [
    {
     "data": {
      "text/plain": [
       "dtype('int64')"
      ]
     },
     "execution_count": 23,
     "metadata": {},
     "output_type": "execute_result"
    }
   ],
   "source": [
    "arr_data2.dtype"
   ]
  },
  {
   "cell_type": "code",
   "execution_count": 24,
   "id": "67fa55d4",
   "metadata": {},
   "outputs": [
    {
     "data": {
      "text/plain": [
       "2"
      ]
     },
     "execution_count": 24,
     "metadata": {},
     "output_type": "execute_result"
    }
   ],
   "source": [
    "arr_data2.ndim"
   ]
  },
  {
   "cell_type": "code",
   "execution_count": 25,
   "id": "30a6c60d",
   "metadata": {},
   "outputs": [
    {
     "data": {
      "text/plain": [
       "(2, 4)"
      ]
     },
     "execution_count": 25,
     "metadata": {},
     "output_type": "execute_result"
    }
   ],
   "source": [
    "arr_data2.shape"
   ]
  },
  {
   "cell_type": "code",
   "execution_count": 26,
   "id": "43f4ae33",
   "metadata": {},
   "outputs": [
    {
     "data": {
      "text/plain": [
       "8"
      ]
     },
     "execution_count": 26,
     "metadata": {},
     "output_type": "execute_result"
    }
   ],
   "source": [
    "arr_data2.size"
   ]
  },
  {
   "cell_type": "code",
   "execution_count": 27,
   "id": "444ca81c",
   "metadata": {},
   "outputs": [
    {
     "data": {
      "text/plain": [
       "numpy.ndarray"
      ]
     },
     "execution_count": 27,
     "metadata": {},
     "output_type": "execute_result"
    }
   ],
   "source": [
    "type(arr_data2)"
   ]
  },
  {
   "cell_type": "code",
   "execution_count": 28,
   "id": "9bebbd4f",
   "metadata": {},
   "outputs": [],
   "source": [
    "arr_z345=np.zeros((3,4,5))"
   ]
  },
  {
   "cell_type": "code",
   "execution_count": 29,
   "id": "bec5cd4a",
   "metadata": {},
   "outputs": [
    {
     "data": {
      "text/plain": [
       "numpy.ndarray"
      ]
     },
     "execution_count": 29,
     "metadata": {},
     "output_type": "execute_result"
    }
   ],
   "source": [
    "type(arr_z345)"
   ]
  },
  {
   "cell_type": "code",
   "execution_count": 30,
   "id": "42c27474",
   "metadata": {},
   "outputs": [
    {
     "data": {
      "text/plain": [
       "dtype('float64')"
      ]
     },
     "execution_count": 30,
     "metadata": {},
     "output_type": "execute_result"
    }
   ],
   "source": [
    "arr_z345.dtype"
   ]
  },
  {
   "cell_type": "code",
   "execution_count": 31,
   "id": "3176c6d8",
   "metadata": {},
   "outputs": [
    {
     "data": {
      "text/plain": [
       "3"
      ]
     },
     "execution_count": 31,
     "metadata": {},
     "output_type": "execute_result"
    }
   ],
   "source": [
    "arr_z345.ndim"
   ]
  },
  {
   "cell_type": "code",
   "execution_count": 32,
   "id": "3e72318a",
   "metadata": {},
   "outputs": [
    {
     "data": {
      "text/plain": [
       "(3, 4, 5)"
      ]
     },
     "execution_count": 32,
     "metadata": {},
     "output_type": "execute_result"
    }
   ],
   "source": [
    "arr_z345.shape"
   ]
  },
  {
   "cell_type": "code",
   "execution_count": 33,
   "id": "7c73212a",
   "metadata": {},
   "outputs": [
    {
     "data": {
      "text/plain": [
       "60"
      ]
     },
     "execution_count": 33,
     "metadata": {},
     "output_type": "execute_result"
    }
   ],
   "source": [
    "arr_z345.size"
   ]
  },
  {
   "cell_type": "markdown",
   "id": "2ad0ff81",
   "metadata": {},
   "source": [
    "<h3>Arithmetics<h/3>"
   ]
  },
  {
   "cell_type": "code",
   "execution_count": 34,
   "id": "97550b38",
   "metadata": {},
   "outputs": [],
   "source": [
    "arr3=np.array([1,2,3,4,5])"
   ]
  },
  {
   "cell_type": "code",
   "execution_count": 35,
   "id": "d2ecb459",
   "metadata": {},
   "outputs": [
    {
     "data": {
      "text/plain": [
       "array([4, 5, 6, 7, 8])"
      ]
     },
     "execution_count": 35,
     "metadata": {},
     "output_type": "execute_result"
    }
   ],
   "source": [
    "arr3+3"
   ]
  },
  {
   "cell_type": "code",
   "execution_count": 36,
   "id": "e39e21ea",
   "metadata": {},
   "outputs": [
    {
     "data": {
      "text/plain": [
       "array([-3, -2, -1,  0,  1])"
      ]
     },
     "execution_count": 36,
     "metadata": {},
     "output_type": "execute_result"
    }
   ],
   "source": [
    "arr3-4"
   ]
  },
  {
   "cell_type": "code",
   "execution_count": 37,
   "id": "2ccbf565",
   "metadata": {},
   "outputs": [
    {
     "data": {
      "text/plain": [
       "array([ 5, 10, 15, 20, 25])"
      ]
     },
     "execution_count": 37,
     "metadata": {},
     "output_type": "execute_result"
    }
   ],
   "source": [
    "arr3*5"
   ]
  },
  {
   "cell_type": "code",
   "execution_count": 38,
   "id": "136806c4",
   "metadata": {},
   "outputs": [
    {
     "data": {
      "text/plain": [
       "array([ 1,  4,  9, 16, 25])"
      ]
     },
     "execution_count": 38,
     "metadata": {},
     "output_type": "execute_result"
    }
   ],
   "source": [
    "arr3**2"
   ]
  },
  {
   "cell_type": "code",
   "execution_count": 39,
   "id": "03ee7bb2",
   "metadata": {},
   "outputs": [],
   "source": [
    "arr3+=1"
   ]
  },
  {
   "cell_type": "code",
   "execution_count": 40,
   "id": "aebca28e",
   "metadata": {},
   "outputs": [
    {
     "data": {
      "text/plain": [
       "array([2, 3, 4, 5, 6])"
      ]
     },
     "execution_count": 40,
     "metadata": {},
     "output_type": "execute_result"
    }
   ],
   "source": [
    "arr3"
   ]
  },
  {
   "cell_type": "markdown",
   "id": "617efd6e",
   "metadata": {},
   "source": [
    "<h3>Operaciones entre ndarrays</h3>"
   ]
  },
  {
   "cell_type": "code",
   "execution_count": 41,
   "id": "47552990",
   "metadata": {},
   "outputs": [],
   "source": [
    "arr4=np.arange(1,12,2)"
   ]
  },
  {
   "cell_type": "code",
   "execution_count": 42,
   "id": "2d698473",
   "metadata": {},
   "outputs": [],
   "source": [
    "arr5=np.arange(0,11,2)"
   ]
  },
  {
   "cell_type": "code",
   "execution_count": 43,
   "id": "19f70838",
   "metadata": {},
   "outputs": [
    {
     "data": {
      "text/plain": [
       "array([ 1,  3,  5,  7,  9, 11])"
      ]
     },
     "execution_count": 43,
     "metadata": {},
     "output_type": "execute_result"
    }
   ],
   "source": [
    "arr4"
   ]
  },
  {
   "cell_type": "code",
   "execution_count": 44,
   "id": "314134cd",
   "metadata": {},
   "outputs": [
    {
     "data": {
      "text/plain": [
       "array([ 0,  2,  4,  6,  8, 10])"
      ]
     },
     "execution_count": 44,
     "metadata": {},
     "output_type": "execute_result"
    }
   ],
   "source": [
    "arr5"
   ]
  },
  {
   "cell_type": "code",
   "execution_count": 45,
   "id": "d8bef12f",
   "metadata": {},
   "outputs": [
    {
     "data": {
      "text/plain": [
       "array([ 1,  5,  9, 13, 17, 21])"
      ]
     },
     "execution_count": 45,
     "metadata": {},
     "output_type": "execute_result"
    }
   ],
   "source": [
    "arr4 + arr5"
   ]
  },
  {
   "cell_type": "code",
   "execution_count": 46,
   "id": "b5998528",
   "metadata": {},
   "outputs": [
    {
     "data": {
      "text/plain": [
       "array([1, 1, 1, 1, 1, 1])"
      ]
     },
     "execution_count": 46,
     "metadata": {},
     "output_type": "execute_result"
    }
   ],
   "source": [
    "arr4 - arr5"
   ]
  },
  {
   "cell_type": "code",
   "execution_count": 47,
   "id": "efa98604",
   "metadata": {},
   "outputs": [
    {
     "data": {
      "text/plain": [
       "array([  0,   6,  20,  42,  72, 110])"
      ]
     },
     "execution_count": 47,
     "metadata": {},
     "output_type": "execute_result"
    }
   ],
   "source": [
    "arr4 * arr5"
   ]
  },
  {
   "cell_type": "code",
   "execution_count": 48,
   "id": "2d65b13f",
   "metadata": {},
   "outputs": [
    {
     "data": {
      "text/plain": [
       "array([0.        , 0.66666667, 0.8       , 0.85714286, 0.88888889,\n",
       "       0.90909091])"
      ]
     },
     "execution_count": 48,
     "metadata": {},
     "output_type": "execute_result"
    }
   ],
   "source": [
    "arr5 / arr4"
   ]
  },
  {
   "cell_type": "markdown",
   "id": "30f7af55",
   "metadata": {},
   "source": [
    "<h3>Indexing slicing</h3>"
   ]
  },
  {
   "cell_type": "code",
   "execution_count": 49,
   "id": "aa75dab6",
   "metadata": {},
   "outputs": [],
   "source": [
    "arr6=np.arange(21)"
   ]
  },
  {
   "cell_type": "code",
   "execution_count": 50,
   "id": "5f80ccac",
   "metadata": {},
   "outputs": [
    {
     "data": {
      "text/plain": [
       "array([ 0,  1,  2,  3,  4,  5,  6,  7,  8,  9, 10, 11, 12, 13, 14, 15, 16,\n",
       "       17, 18, 19, 20])"
      ]
     },
     "execution_count": 50,
     "metadata": {},
     "output_type": "execute_result"
    }
   ],
   "source": [
    "arr6"
   ]
  },
  {
   "cell_type": "code",
   "execution_count": 51,
   "id": "4fc4e664",
   "metadata": {},
   "outputs": [
    {
     "data": {
      "text/plain": [
       "array([5, 6, 7, 8])"
      ]
     },
     "execution_count": 51,
     "metadata": {},
     "output_type": "execute_result"
    }
   ],
   "source": [
    "arr6[5:9]"
   ]
  },
  {
   "cell_type": "code",
   "execution_count": 52,
   "id": "acca64f2",
   "metadata": {},
   "outputs": [],
   "source": [
    "arr6_2=np.asarray(arr6)"
   ]
  },
  {
   "cell_type": "code",
   "execution_count": 53,
   "id": "3502a14c",
   "metadata": {},
   "outputs": [
    {
     "data": {
      "text/plain": [
       "array([ 0,  1,  2,  3,  4,  5,  6,  7,  8,  9, 10, 11, 12, 13, 14, 15, 16,\n",
       "       17, 18, 19, 20])"
      ]
     },
     "execution_count": 53,
     "metadata": {},
     "output_type": "execute_result"
    }
   ],
   "source": [
    "arr6_2"
   ]
  },
  {
   "cell_type": "code",
   "execution_count": 54,
   "id": "acb4e483",
   "metadata": {},
   "outputs": [],
   "source": [
    "arr6_2[4:14]=0"
   ]
  },
  {
   "cell_type": "code",
   "execution_count": 55,
   "id": "b1f95d28",
   "metadata": {},
   "outputs": [
    {
     "data": {
      "text/plain": [
       "array([ 0,  1,  2,  3,  0,  0,  0,  0,  0,  0,  0,  0,  0,  0, 14, 15, 16,\n",
       "       17, 18, 19, 20])"
      ]
     },
     "execution_count": 55,
     "metadata": {},
     "output_type": "execute_result"
    }
   ],
   "source": [
    "arr6_2"
   ]
  },
  {
   "cell_type": "code",
   "execution_count": 56,
   "id": "951d9eaa",
   "metadata": {},
   "outputs": [
    {
     "data": {
      "text/plain": [
       "array([ 0,  1,  2,  3,  0,  0,  0,  0,  0,  0,  0,  0,  0,  0, 14, 15, 16,\n",
       "       17, 18, 19, 20])"
      ]
     },
     "execution_count": 56,
     "metadata": {},
     "output_type": "execute_result"
    }
   ],
   "source": [
    "arr6"
   ]
  },
  {
   "cell_type": "code",
   "execution_count": 57,
   "id": "6cd49396",
   "metadata": {},
   "outputs": [
    {
     "data": {
      "text/plain": [
       "array([ 0,  1,  2,  3,  0,  0,  0,  0,  0,  0,  0,  0,  0,  0, 14, 15, 16,\n",
       "       17, 18, 19, 20])"
      ]
     },
     "execution_count": 57,
     "metadata": {},
     "output_type": "execute_result"
    }
   ],
   "source": [
    "arr6"
   ]
  },
  {
   "cell_type": "code",
   "execution_count": 58,
   "id": "7ecc7e77",
   "metadata": {},
   "outputs": [
    {
     "data": {
      "text/plain": [
       "array([ 0,  1,  2,  3,  0,  0,  0,  0,  0,  0,  0,  0,  0,  0, 14, 15, 16,\n",
       "       17, 18, 19, 20])"
      ]
     },
     "execution_count": 58,
     "metadata": {},
     "output_type": "execute_result"
    }
   ],
   "source": [
    "arr6_2=np.array(arr6)\n",
    "arr6_2"
   ]
  },
  {
   "cell_type": "code",
   "execution_count": 59,
   "id": "aeaf62b6",
   "metadata": {},
   "outputs": [
    {
     "data": {
      "text/plain": [
       "array([ 0,  1,  0,  0,  0,  0,  0,  0,  0,  0,  0,  0,  0,  0, 14, 15, 16,\n",
       "       17, 18, 19, 20])"
      ]
     },
     "execution_count": 59,
     "metadata": {},
     "output_type": "execute_result"
    }
   ],
   "source": [
    "arr6_2[2:10]=0\n",
    "arr6_2"
   ]
  },
  {
   "cell_type": "code",
   "execution_count": 60,
   "id": "f99c3f57",
   "metadata": {},
   "outputs": [
    {
     "data": {
      "text/plain": [
       "array([ 0,  1,  2,  3,  0,  0,  0,  0,  0,  0,  0,  0,  0,  0, 14, 15, 16,\n",
       "       17, 18, 19, 20])"
      ]
     },
     "execution_count": 60,
     "metadata": {},
     "output_type": "execute_result"
    }
   ],
   "source": [
    "arr6"
   ]
  },
  {
   "cell_type": "code",
   "execution_count": 61,
   "id": "96d32b3f",
   "metadata": {},
   "outputs": [
    {
     "data": {
      "text/plain": [
       "array([[[0., 0., 0., 0., 0.],\n",
       "        [0., 0., 0., 0., 0.],\n",
       "        [0., 0., 0., 0., 0.],\n",
       "        [0., 0., 0., 0., 0.]],\n",
       "\n",
       "       [[0., 0., 0., 0., 0.],\n",
       "        [0., 0., 0., 0., 0.],\n",
       "        [0., 0., 0., 0., 0.],\n",
       "        [0., 0., 0., 0., 0.]],\n",
       "\n",
       "       [[0., 0., 0., 0., 0.],\n",
       "        [0., 0., 0., 0., 0.],\n",
       "        [0., 0., 0., 0., 0.],\n",
       "        [0., 0., 0., 0., 0.]]])"
      ]
     },
     "execution_count": 61,
     "metadata": {},
     "output_type": "execute_result"
    }
   ],
   "source": [
    "arr_z345"
   ]
  },
  {
   "cell_type": "code",
   "execution_count": 62,
   "id": "871bcca1",
   "metadata": {},
   "outputs": [
    {
     "data": {
      "text/plain": [
       "array([[0., 0., 0., 0., 0.],\n",
       "       [0., 0., 0., 0., 0.],\n",
       "       [0., 0., 0., 0., 0.],\n",
       "       [0., 0., 0., 0., 0.]])"
      ]
     },
     "execution_count": 62,
     "metadata": {},
     "output_type": "execute_result"
    }
   ],
   "source": [
    "arr_z345[1]"
   ]
  },
  {
   "cell_type": "code",
   "execution_count": 63,
   "id": "3b69f9a4",
   "metadata": {},
   "outputs": [],
   "source": [
    "arr_z345[1][1]=1"
   ]
  },
  {
   "cell_type": "code",
   "execution_count": 64,
   "id": "fd91c268",
   "metadata": {},
   "outputs": [
    {
     "data": {
      "text/plain": [
       "1.0"
      ]
     },
     "execution_count": 64,
     "metadata": {},
     "output_type": "execute_result"
    }
   ],
   "source": [
    "arr_z345[1,1,3]"
   ]
  },
  {
   "cell_type": "code",
   "execution_count": 65,
   "id": "989cddbb",
   "metadata": {},
   "outputs": [
    {
     "data": {
      "text/plain": [
       "array([[[0., 0., 0., 0., 0.],\n",
       "        [0., 0., 0., 0., 0.],\n",
       "        [0., 0., 0., 0., 0.],\n",
       "        [0., 0., 0., 0., 0.]],\n",
       "\n",
       "       [[0., 0., 0., 0., 0.],\n",
       "        [1., 1., 1., 1., 1.],\n",
       "        [0., 0., 0., 0., 0.],\n",
       "        [0., 0., 0., 0., 0.]]])"
      ]
     },
     "execution_count": 65,
     "metadata": {},
     "output_type": "execute_result"
    }
   ],
   "source": [
    "arr_z345[:2]"
   ]
  },
  {
   "cell_type": "code",
   "execution_count": 66,
   "id": "a6f3a487",
   "metadata": {},
   "outputs": [
    {
     "data": {
      "text/plain": [
       "array([[[1., 1., 1., 1., 1.],\n",
       "        [1., 1., 1., 1., 1.],\n",
       "        [1., 1., 1., 1., 1.],\n",
       "        [1., 1., 1., 1., 1.]],\n",
       "\n",
       "       [[1., 1., 1., 1., 1.],\n",
       "        [1., 1., 1., 1., 1.],\n",
       "        [1., 1., 1., 1., 1.],\n",
       "        [1., 1., 1., 1., 1.]],\n",
       "\n",
       "       [[1., 1., 1., 1., 1.],\n",
       "        [1., 1., 1., 1., 1.],\n",
       "        [1., 1., 1., 1., 1.],\n",
       "        [1., 1., 1., 1., 1.]]])"
      ]
     },
     "execution_count": 66,
     "metadata": {},
     "output_type": "execute_result"
    }
   ],
   "source": [
    "arr_o345=np.ones((3,4,5))\n",
    "arr_o345"
   ]
  },
  {
   "cell_type": "code",
   "execution_count": 67,
   "id": "1c9cff7b",
   "metadata": {},
   "outputs": [],
   "source": [
    "arr_o345[1]=2"
   ]
  },
  {
   "cell_type": "code",
   "execution_count": 68,
   "id": "edfd22a2",
   "metadata": {},
   "outputs": [],
   "source": [
    "arr_o345[2]=3"
   ]
  },
  {
   "cell_type": "code",
   "execution_count": 69,
   "id": "308b912d",
   "metadata": {},
   "outputs": [
    {
     "data": {
      "text/plain": [
       "array([[[1., 1., 1., 1., 1.],\n",
       "        [1., 1., 1., 1., 1.],\n",
       "        [1., 1., 1., 1., 1.],\n",
       "        [1., 1., 1., 1., 1.]],\n",
       "\n",
       "       [[2., 2., 2., 2., 2.],\n",
       "        [2., 2., 2., 2., 2.],\n",
       "        [2., 2., 2., 2., 2.],\n",
       "        [2., 2., 2., 2., 2.]],\n",
       "\n",
       "       [[3., 3., 3., 3., 3.],\n",
       "        [3., 3., 3., 3., 3.],\n",
       "        [3., 3., 3., 3., 3.],\n",
       "        [3., 3., 3., 3., 3.]]])"
      ]
     },
     "execution_count": 69,
     "metadata": {},
     "output_type": "execute_result"
    }
   ],
   "source": [
    "arr_o345"
   ]
  },
  {
   "cell_type": "code",
   "execution_count": 70,
   "id": "6e617651",
   "metadata": {},
   "outputs": [
    {
     "data": {
      "text/plain": [
       "array([[[1., 1., 1., 1., 1.],\n",
       "        [1., 1., 1., 1., 1.],\n",
       "        [1., 1., 1., 1., 1.]],\n",
       "\n",
       "       [[2., 2., 2., 2., 2.],\n",
       "        [2., 2., 2., 2., 2.],\n",
       "        [2., 2., 2., 2., 2.]]])"
      ]
     },
     "execution_count": 70,
     "metadata": {},
     "output_type": "execute_result"
    }
   ],
   "source": [
    "arr_o345[:2,1:]"
   ]
  },
  {
   "cell_type": "code",
   "execution_count": 71,
   "id": "2b6cd7e1",
   "metadata": {},
   "outputs": [
    {
     "data": {
      "text/plain": [
       "array([[[0., 0., 1., 1., 1.],\n",
       "        [0., 0., 1., 1., 1.],\n",
       "        [1., 1., 1., 1., 1.],\n",
       "        [1., 1., 1., 1., 1.]],\n",
       "\n",
       "       [[0., 0., 2., 2., 2.],\n",
       "        [0., 0., 2., 2., 2.],\n",
       "        [2., 2., 2., 2., 2.],\n",
       "        [2., 2., 2., 2., 2.]],\n",
       "\n",
       "       [[3., 3., 3., 3., 3.],\n",
       "        [3., 3., 3., 3., 3.],\n",
       "        [3., 3., 3., 3., 3.],\n",
       "        [3., 3., 3., 3., 3.]]])"
      ]
     },
     "execution_count": 71,
     "metadata": {},
     "output_type": "execute_result"
    }
   ],
   "source": [
    "arr_o345[:2,:2,:2]=0\n",
    "arr_o345"
   ]
  },
  {
   "cell_type": "markdown",
   "id": "df63b842",
   "metadata": {},
   "source": [
    "<h3>Boolean Indexing</h3>"
   ]
  },
  {
   "cell_type": "code",
   "execution_count": 72,
   "id": "66d72bba",
   "metadata": {},
   "outputs": [],
   "source": [
    "arr_rn74=np.random.randn(7,4)"
   ]
  },
  {
   "cell_type": "code",
   "execution_count": 73,
   "id": "0e2182ac",
   "metadata": {},
   "outputs": [
    {
     "data": {
      "text/plain": [
       "array([[ 0.24815857, -1.46155127,  0.62936439,  1.2287581 ],\n",
       "       [-0.52562701, -1.1153267 ,  0.51476779, -0.45912547],\n",
       "       [-0.82145606, -0.97797566,  1.28212764, -2.16561892],\n",
       "       [-1.43690471,  0.2463123 ,  0.22695086, -2.46661818],\n",
       "       [ 0.61668454,  0.12743125, -0.67325979,  0.66729536],\n",
       "       [-1.20936298,  0.27865239, -1.69806288,  0.5107561 ],\n",
       "       [ 1.18252644, -1.20446829, -0.03784336,  1.50524245]])"
      ]
     },
     "execution_count": 73,
     "metadata": {},
     "output_type": "execute_result"
    }
   ],
   "source": [
    "arr_rn74"
   ]
  },
  {
   "cell_type": "code",
   "execution_count": 74,
   "id": "b1d59429",
   "metadata": {},
   "outputs": [
    {
     "data": {
      "text/plain": [
       "array(['Bob', 'Joe', 'Will', 'Bob', 'Will', 'Joe', 'Joe'], dtype='<U4')"
      ]
     },
     "execution_count": 74,
     "metadata": {},
     "output_type": "execute_result"
    }
   ],
   "source": [
    "names=np.array(['Bob', 'Joe', 'Will', 'Bob', 'Will', 'Joe', 'Joe'])\n",
    "names"
   ]
  },
  {
   "cell_type": "code",
   "execution_count": 75,
   "id": "0a0a2ae8-b36a-4001-9c1c-1da76914a6ef",
   "metadata": {},
   "outputs": [
    {
     "data": {
      "text/plain": [
       "array([[ 0.51297778,  0.3212803 , -0.91840258,  0.6853214 ],\n",
       "       [-1.8818349 , -0.17239774, -0.04712314,  0.64790538],\n",
       "       [ 1.26867701,  1.3091117 ,  0.27298562, -1.82040668],\n",
       "       [ 0.97384847,  0.04514417,  0.15228718, -0.70401881],\n",
       "       [-0.36315047,  0.48309807, -0.18931004, -0.32207337],\n",
       "       [ 0.77768239,  1.20500923, -0.57575783, -1.97017446],\n",
       "       [-0.419902  ,  1.04891903, -0.13078366, -1.87169211]])"
      ]
     },
     "execution_count": 75,
     "metadata": {},
     "output_type": "execute_result"
    }
   ],
   "source": [
    "data_arr=np.random.randn(7,4)\n",
    "data_arr"
   ]
  },
  {
   "cell_type": "markdown",
   "id": "4b9f44bd-8d04-4cad-b2e7-172357637c72",
   "metadata": {},
   "source": [
    "data_arr=<strong>[condicion]</strong>"
   ]
  },
  {
   "cell_type": "code",
   "execution_count": 76,
   "id": "f5de083a-c450-4419-ab43-b0694b72e39f",
   "metadata": {},
   "outputs": [
    {
     "data": {
      "text/plain": [
       "array([False, False,  True, False,  True, False, False])"
      ]
     },
     "execution_count": 76,
     "metadata": {},
     "output_type": "execute_result"
    }
   ],
   "source": [
    "names=='Will'"
   ]
  },
  {
   "cell_type": "code",
   "execution_count": 77,
   "id": "ccde1b77-6bcc-403b-8e03-078e6bdfa4cd",
   "metadata": {},
   "outputs": [
    {
     "data": {
      "text/plain": [
       "array([[ 1.26867701,  1.3091117 ,  0.27298562, -1.82040668],\n",
       "       [-0.36315047,  0.48309807, -0.18931004, -0.32207337]])"
      ]
     },
     "execution_count": 77,
     "metadata": {},
     "output_type": "execute_result"
    }
   ],
   "source": [
    "data_arr[names=='Will']"
   ]
  },
  {
   "cell_type": "code",
   "execution_count": 78,
   "id": "5b14e244-a419-4140-84d0-25eb64b2ca57",
   "metadata": {},
   "outputs": [
    {
     "data": {
      "text/plain": [
       "array([[ 0.27298562, -1.82040668],\n",
       "       [-0.18931004, -0.32207337]])"
      ]
     },
     "execution_count": 78,
     "metadata": {},
     "output_type": "execute_result"
    }
   ],
   "source": [
    "data_arr[names=='Will',2:]"
   ]
  },
  {
   "cell_type": "code",
   "execution_count": 79,
   "id": "1245ecdd-3d31-4a51-96d0-6659d67c910f",
   "metadata": {},
   "outputs": [],
   "source": [
    "data_arr[data_arr<0]=0"
   ]
  },
  {
   "cell_type": "code",
   "execution_count": 80,
   "id": "e1c0f17a-96a8-4276-be3a-5e0a70d4abeb",
   "metadata": {},
   "outputs": [
    {
     "data": {
      "text/plain": [
       "array([[0.51297778, 0.3212803 , 0.        , 0.6853214 ],\n",
       "       [0.        , 0.        , 0.        , 0.64790538],\n",
       "       [1.26867701, 1.3091117 , 0.27298562, 0.        ],\n",
       "       [0.97384847, 0.04514417, 0.15228718, 0.        ],\n",
       "       [0.        , 0.48309807, 0.        , 0.        ],\n",
       "       [0.77768239, 1.20500923, 0.        , 0.        ],\n",
       "       [0.        , 1.04891903, 0.        , 0.        ]])"
      ]
     },
     "execution_count": 80,
     "metadata": {},
     "output_type": "execute_result"
    }
   ],
   "source": [
    "data_arr"
   ]
  },
  {
   "cell_type": "code",
   "execution_count": 81,
   "id": "e4e60fc8-36d9-48af-beed-c8e87fcbd11a",
   "metadata": {},
   "outputs": [
    {
     "data": {
      "text/plain": [
       "array([[ True,  True,  True,  True],\n",
       "       [ True,  True,  True,  True],\n",
       "       [False, False,  True,  True],\n",
       "       [ True,  True,  True,  True],\n",
       "       [ True,  True,  True,  True],\n",
       "       [ True, False,  True,  True],\n",
       "       [ True, False,  True,  True]])"
      ]
     },
     "execution_count": 81,
     "metadata": {},
     "output_type": "execute_result"
    }
   ],
   "source": [
    "data_arr_b=data_arr<1\n",
    "data_arr_b"
   ]
  },
  {
   "cell_type": "markdown",
   "id": "d7494c3f-f3c0-462f-832b-5050ed1ea1b6",
   "metadata": {},
   "source": [
    "<h3>Fancy indexing (using integers as indexes)</h3>"
   ]
  },
  {
   "cell_type": "code",
   "execution_count": 82,
   "id": "66eec00f-73d8-4c26-96b4-a4f66c00f66d",
   "metadata": {},
   "outputs": [
    {
     "data": {
      "text/plain": [
       "array([[6.93448310e-310, 4.64454520e-310, 0.00000000e+000,\n",
       "        0.00000000e+000],\n",
       "       [6.93447005e-310, 5.02034658e+175, 1.79144555e+160,\n",
       "        8.24020035e-067],\n",
       "       [2.03956532e+184, 2.08900269e-076, 4.22304324e-062,\n",
       "        6.79856962e-144],\n",
       "       [3.59751658e+252, 1.46901661e+179, 8.37404147e+242,\n",
       "        2.59027926e-144],\n",
       "       [3.80985069e+180, 9.05427393e+271, 1.04917595e-153,\n",
       "        9.08366793e+223],\n",
       "       [1.79144555e+160, 8.24020035e-067, 2.03956532e+184,\n",
       "        2.08900269e-076],\n",
       "       [1.04917639e-153, 1.94918966e-153, 6.37112979e-067,\n",
       "        2.73418116e-052],\n",
       "       [1.58900687e-047, 2.59027896e-144, 7.79952704e-143,\n",
       "        5.81186265e+294]])"
      ]
     },
     "execution_count": 82,
     "metadata": {},
     "output_type": "execute_result"
    }
   ],
   "source": [
    "int_arr=np.empty([8,4])\n",
    "int_arr"
   ]
  },
  {
   "cell_type": "code",
   "execution_count": 83,
   "id": "2cff5954-2110-472c-aa9f-a1267cfb5186",
   "metadata": {},
   "outputs": [],
   "source": [
    "for i in range(8):\n",
    "    int_arr[i]=i"
   ]
  },
  {
   "cell_type": "code",
   "execution_count": 84,
   "id": "9008e800-1a16-4dca-9d82-d926a07b1816",
   "metadata": {},
   "outputs": [
    {
     "data": {
      "text/plain": [
       "array([[0., 0., 0., 0.],\n",
       "       [1., 1., 1., 1.],\n",
       "       [2., 2., 2., 2.],\n",
       "       [3., 3., 3., 3.],\n",
       "       [4., 4., 4., 4.],\n",
       "       [5., 5., 5., 5.],\n",
       "       [6., 6., 6., 6.],\n",
       "       [7., 7., 7., 7.]])"
      ]
     },
     "execution_count": 84,
     "metadata": {},
     "output_type": "execute_result"
    }
   ],
   "source": [
    "int_arr\n"
   ]
  },
  {
   "cell_type": "code",
   "execution_count": 85,
   "id": "3cf84153-8a4d-4e46-9bbd-cf64c7d2d1bf",
   "metadata": {},
   "outputs": [
    {
     "data": {
      "text/plain": [
       "array([[7., 7., 7., 7.],\n",
       "       [5., 5., 5., 5.],\n",
       "       [4., 4., 4., 4.],\n",
       "       [1., 1., 1., 1.]])"
      ]
     },
     "execution_count": 85,
     "metadata": {},
     "output_type": "execute_result"
    }
   ],
   "source": [
    "int_arr[[7,5,4,1]]"
   ]
  },
  {
   "cell_type": "code",
   "execution_count": 86,
   "id": "d770f7eb-ea34-4d03-8122-8335ae80d506",
   "metadata": {},
   "outputs": [
    {
     "data": {
      "text/plain": [
       "array([[ 0,  1,  2,  3],\n",
       "       [ 4,  5,  6,  7],\n",
       "       [ 8,  9, 10, 11],\n",
       "       [12, 13, 14, 15],\n",
       "       [16, 17, 18, 19],\n",
       "       [20, 21, 22, 23],\n",
       "       [24, 25, 26, 27],\n",
       "       [28, 29, 30, 31]])"
      ]
     },
     "execution_count": 86,
     "metadata": {},
     "output_type": "execute_result"
    }
   ],
   "source": [
    "int_arr2=np.arange(32).reshape(8,4)\n",
    "int_arr2"
   ]
  },
  {
   "cell_type": "code",
   "execution_count": 87,
   "id": "866922d1-31e1-4561-a190-4a3cd95bb272",
   "metadata": {},
   "outputs": [
    {
     "data": {
      "text/plain": [
       "array([ 0,  9, 18, 27])"
      ]
     },
     "execution_count": 87,
     "metadata": {},
     "output_type": "execute_result"
    }
   ],
   "source": [
    "int_arr2[[0,2,4,6],[0,1,2,3]]"
   ]
  },
  {
   "cell_type": "markdown",
   "id": "9015e209-d4ee-4706-a06d-a068501cd3d0",
   "metadata": {},
   "source": [
    "<h3>Transposition and axis swap</h3>"
   ]
  },
  {
   "cell_type": "code",
   "execution_count": 88,
   "id": "e0ee792d-12b8-4c17-8426-bcf000a84b8e",
   "metadata": {},
   "outputs": [
    {
     "data": {
      "text/plain": [
       "array([[ 0,  1,  2,  3,  4],\n",
       "       [ 5,  6,  7,  8,  9],\n",
       "       [10, 11, 12, 13, 14]])"
      ]
     },
     "execution_count": 88,
     "metadata": {},
     "output_type": "execute_result"
    }
   ],
   "source": [
    "int_arr3=np.arange(15).reshape([3,5])\n",
    "int_arr3"
   ]
  },
  {
   "cell_type": "code",
   "execution_count": 89,
   "id": "91be2a29-ae20-4e5a-a69a-aa31505c7995",
   "metadata": {},
   "outputs": [
    {
     "data": {
      "text/plain": [
       "array([[ 0,  5, 10],\n",
       "       [ 1,  6, 11],\n",
       "       [ 2,  7, 12],\n",
       "       [ 3,  8, 13],\n",
       "       [ 4,  9, 14]])"
      ]
     },
     "execution_count": 89,
     "metadata": {},
     "output_type": "execute_result"
    }
   ],
   "source": [
    "int_arr3.T"
   ]
  },
  {
   "cell_type": "code",
   "execution_count": 90,
   "id": "edb84852-3a26-4f78-8f0e-746fea0b43f3",
   "metadata": {},
   "outputs": [],
   "source": [
    "int_arr3_dot=np.dot(int_arr3,int_arr3.T)"
   ]
  },
  {
   "cell_type": "code",
   "execution_count": 91,
   "id": "7a13242f-89fe-4799-a86b-4fb5f854a67f",
   "metadata": {},
   "outputs": [
    {
     "data": {
      "text/plain": [
       "array([[ 30,  80, 130],\n",
       "       [ 80, 255, 430],\n",
       "       [130, 430, 730]])"
      ]
     },
     "execution_count": 91,
     "metadata": {},
     "output_type": "execute_result"
    }
   ],
   "source": [
    "int_arr3_dot"
   ]
  },
  {
   "cell_type": "code",
   "execution_count": 92,
   "id": "a76bb6b3-595a-4436-a79c-59f37b694436",
   "metadata": {},
   "outputs": [
    {
     "data": {
      "text/plain": [
       "array([[[ 0,  1,  2,  3],\n",
       "        [ 4,  5,  6,  7]],\n",
       "\n",
       "       [[ 8,  9, 10, 11],\n",
       "        [12, 13, 14, 15]]])"
      ]
     },
     "execution_count": 92,
     "metadata": {},
     "output_type": "execute_result"
    }
   ],
   "source": [
    "int_arr3d=np.arange(16).reshape([2,2,4])\n",
    "int_arr3d"
   ]
  },
  {
   "cell_type": "code",
   "execution_count": 93,
   "id": "50a142f3-6ffa-442b-a785-edb2366beb5f",
   "metadata": {},
   "outputs": [
    {
     "data": {
      "text/plain": [
       "array([[[ 0,  1,  2,  3],\n",
       "        [ 8,  9, 10, 11]],\n",
       "\n",
       "       [[ 4,  5,  6,  7],\n",
       "        [12, 13, 14, 15]]])"
      ]
     },
     "execution_count": 93,
     "metadata": {},
     "output_type": "execute_result"
    }
   ],
   "source": [
    "int_arr3d.transpose([1,0,2])"
   ]
  },
  {
   "cell_type": "markdown",
   "id": "22bfb606-badf-42e8-93d0-93cf884dfb34",
   "metadata": {},
   "source": [
    "<h2>4.2 Universal functions</h2>"
   ]
  },
  {
   "cell_type": "code",
   "execution_count": 94,
   "id": "3dd50b32-0d09-43cc-a42c-40d7ef8e5606",
   "metadata": {},
   "outputs": [],
   "source": [
    "iarr4=np.arange(12).reshape([3,4])"
   ]
  },
  {
   "cell_type": "code",
   "execution_count": 95,
   "id": "1541bc0c-80ab-4920-9b96-889c9f745a03",
   "metadata": {},
   "outputs": [
    {
     "data": {
      "text/plain": [
       "array([[0.        , 1.        , 1.41421356, 1.73205081],\n",
       "       [2.        , 2.23606798, 2.44948974, 2.64575131],\n",
       "       [2.82842712, 3.        , 3.16227766, 3.31662479]])"
      ]
     },
     "execution_count": 95,
     "metadata": {},
     "output_type": "execute_result"
    }
   ],
   "source": [
    "np.sqrt(iarr4)"
   ]
  },
  {
   "cell_type": "code",
   "execution_count": 96,
   "id": "89fb6a56-3482-4434-9d29-61303032547e",
   "metadata": {},
   "outputs": [
    {
     "data": {
      "text/plain": [
       "array([[1.00000000e+00, 2.71828183e+00, 7.38905610e+00, 2.00855369e+01],\n",
       "       [5.45981500e+01, 1.48413159e+02, 4.03428793e+02, 1.09663316e+03],\n",
       "       [2.98095799e+03, 8.10308393e+03, 2.20264658e+04, 5.98741417e+04]])"
      ]
     },
     "execution_count": 96,
     "metadata": {},
     "output_type": "execute_result"
    }
   ],
   "source": [
    "np.exp(iarr4)"
   ]
  },
  {
   "cell_type": "code",
   "execution_count": 97,
   "id": "56bcb7f0-8e5f-4678-b7a4-a9cfca71d8b1",
   "metadata": {},
   "outputs": [
    {
     "data": {
      "text/plain": [
       "array([[ 0.34314606, -0.35636668, -0.40078044],\n",
       "       [ 0.53056791,  0.99875479,  0.15020306],\n",
       "       [ 1.07773295,  0.76502764,  0.67939238]])"
      ]
     },
     "execution_count": 97,
     "metadata": {},
     "output_type": "execute_result"
    }
   ],
   "source": [
    "x=np.random.randn(3,3)\n",
    "y=np.random.randn(3,3)\n",
    "farr4=np.maximum(x,y)\n",
    "farr4"
   ]
  },
  {
   "cell_type": "code",
   "execution_count": 98,
   "id": "2bb208b8-851f-455d-af0e-4676b54129c4",
   "metadata": {},
   "outputs": [],
   "source": [
    "remainder,whole_part=np.modf(farr4)"
   ]
  },
  {
   "cell_type": "code",
   "execution_count": 99,
   "id": "8bf39a7e-9a3f-456a-b611-f52e3f3d6481",
   "metadata": {},
   "outputs": [
    {
     "data": {
      "text/plain": [
       "array([[ 0., -0., -0.],\n",
       "       [ 0.,  0.,  0.],\n",
       "       [ 1.,  0.,  0.]])"
      ]
     },
     "execution_count": 99,
     "metadata": {},
     "output_type": "execute_result"
    }
   ],
   "source": [
    "remainder\n",
    "whole_part"
   ]
  },
  {
   "cell_type": "code",
   "execution_count": 100,
   "id": "c335d8be-e032-4b41-9d20-20976fbf1f6d",
   "metadata": {},
   "outputs": [
    {
     "data": {
      "text/plain": [
       "array([[ 0.34314606, -0.35636668, -0.40078044],\n",
       "       [ 0.53056791,  0.99875479,  0.15020306],\n",
       "       [ 0.07773295,  0.76502764,  0.67939238]])"
      ]
     },
     "execution_count": 100,
     "metadata": {},
     "output_type": "execute_result"
    }
   ],
   "source": [
    "remainder"
   ]
  },
  {
   "cell_type": "code",
   "execution_count": 101,
   "id": "cc6e29fe-eeac-497d-bd8c-816675dc68de",
   "metadata": {},
   "outputs": [
    {
     "data": {
      "text/plain": [
       "array([[0.34314606, 0.35636668, 0.40078044],\n",
       "       [0.53056791, 0.99875479, 0.15020306],\n",
       "       [1.07773295, 0.76502764, 0.67939238]])"
      ]
     },
     "execution_count": 101,
     "metadata": {},
     "output_type": "execute_result"
    }
   ],
   "source": [
    "abs(farr4)"
   ]
  },
  {
   "cell_type": "code",
   "execution_count": 102,
   "id": "c81e376e-061b-4c3e-805e-7c2b7a66105f",
   "metadata": {},
   "outputs": [
    {
     "data": {
      "text/plain": [
       "array([[-1.06959910e+00, -1.03179509e+00, -9.14341537e-01],\n",
       "       [-6.33807326e-01, -1.24598132e-03, -1.89576714e+00],\n",
       "       [ 7.48597183e-02, -2.67843320e-01, -3.86556439e-01]])"
      ]
     },
     "execution_count": 102,
     "metadata": {},
     "output_type": "execute_result"
    }
   ],
   "source": [
    "np.log(abs(farr4))"
   ]
  },
  {
   "cell_type": "code",
   "execution_count": 103,
   "id": "0163da5a-dc26-4fd0-90ec-e6b08799c9a6",
   "metadata": {},
   "outputs": [
    {
     "data": {
      "text/plain": [
       "array([[0.94170083, 0.93717057, 0.9207568 ],\n",
       "       [0.86251984, 0.54134969, 0.98874071],\n",
       "       [0.47332659, 0.72136322, 0.77795464]])"
      ]
     },
     "execution_count": 103,
     "metadata": {},
     "output_type": "execute_result"
    }
   ],
   "source": [
    "np.cos(farr4)"
   ]
  },
  {
   "cell_type": "code",
   "execution_count": 104,
   "id": "d544a001-a6b9-4e4c-8332-ee34bde727d7",
   "metadata": {},
   "outputs": [
    {
     "data": {
      "text/plain": [
       "array([[ 0., -0., -0.],\n",
       "       [ 1.,  1.,  0.],\n",
       "       [ 1.,  1.,  1.]])"
      ]
     },
     "execution_count": 104,
     "metadata": {},
     "output_type": "execute_result"
    }
   ],
   "source": [
    "np.rint(farr4)"
   ]
  },
  {
   "cell_type": "code",
   "execution_count": 105,
   "id": "dba0cf70-6fe4-4d0b-a8b7-789489b29517",
   "metadata": {},
   "outputs": [
    {
     "data": {
      "text/plain": [
       "array([[0.11774922, 0.12699721, 0.16062496],\n",
       "       [0.2815023 , 0.99751114, 0.02256096],\n",
       "       [1.16150832, 0.58526728, 0.46157401]])"
      ]
     },
     "execution_count": 105,
     "metadata": {},
     "output_type": "execute_result"
    }
   ],
   "source": [
    "np.square(farr4)"
   ]
  },
  {
   "cell_type": "code",
   "execution_count": 106,
   "id": "7ad1796f-249b-4aeb-b275-572999039000",
   "metadata": {},
   "outputs": [
    {
     "data": {
      "text/plain": [
       "array([[1.05945005, 1.06416778, 1.08138176],\n",
       "       [1.14402214, 1.53886083, 1.01130167],\n",
       "       [1.63483491, 1.3066305 , 1.23952865]])"
      ]
     },
     "execution_count": 106,
     "metadata": {},
     "output_type": "execute_result"
    }
   ],
   "source": [
    "np.add(np.square(farr4),np.cos(farr4))"
   ]
  },
  {
   "cell_type": "code",
   "execution_count": 107,
   "id": "d97fbb28-5d82-44e3-b3be-c12fbfaac737",
   "metadata": {},
   "outputs": [
    {
     "data": {
      "text/plain": [
       "array([[0, 1, 2],\n",
       "       [3, 4, 5],\n",
       "       [6, 7, 8]])"
      ]
     },
     "execution_count": 107,
     "metadata": {},
     "output_type": "execute_result"
    }
   ],
   "source": [
    "int_powers=np.arange(9).reshape([3,3])\n",
    "int_powers"
   ]
  },
  {
   "cell_type": "code",
   "execution_count": 108,
   "id": "c61ef608-c4e5-498d-9e24-d61b15fce22e",
   "metadata": {},
   "outputs": [
    {
     "data": {
      "text/plain": [
       "array([[ 1.00000000e+00, -3.56366675e-01,  1.60624960e-01],\n",
       "       [ 1.49356087e-01,  9.95028474e-01,  7.64529000e-05],\n",
       "       [ 1.56699271e+00,  1.53369806e-01,  4.53905423e-02]])"
      ]
     },
     "execution_count": 108,
     "metadata": {},
     "output_type": "execute_result"
    }
   ],
   "source": [
    "np.power(farr4,int_powers)"
   ]
  },
  {
   "cell_type": "code",
   "execution_count": 109,
   "id": "805ccb51-ffc6-428c-b873-5003864c841c",
   "metadata": {},
   "outputs": [
    {
     "data": {
      "text/plain": [
       "array([[0, 1, 2],\n",
       "       [0, 1, 2],\n",
       "       [0, 1, 2]])"
      ]
     },
     "execution_count": 109,
     "metadata": {},
     "output_type": "execute_result"
    }
   ],
   "source": [
    "np.mod(int_powers,3)"
   ]
  },
  {
   "cell_type": "code",
   "execution_count": 110,
   "id": "4744a11b-dde9-4a56-9b72-795bc651a17d",
   "metadata": {},
   "outputs": [
    {
     "data": {
      "text/plain": [
       "array([[False, False, False],\n",
       "       [False, False,  True],\n",
       "       [ True,  True,  True]])"
      ]
     },
     "execution_count": 110,
     "metadata": {},
     "output_type": "execute_result"
    }
   ],
   "source": [
    "np.greater(int_powers,4)"
   ]
  },
  {
   "cell_type": "code",
   "execution_count": 111,
   "id": "239e4471-0574-4392-b745-11476b411aee",
   "metadata": {},
   "outputs": [
    {
     "data": {
      "text/plain": [
       "array([[ True,  True,  True],\n",
       "       [ True,  True,  True],\n",
       "       [False, False, False]])"
      ]
     },
     "execution_count": 111,
     "metadata": {},
     "output_type": "execute_result"
    }
   ],
   "source": [
    "np.less_equal(int_powers,5)"
   ]
  },
  {
   "cell_type": "markdown",
   "id": "762ab923-9c46-4869-b311-50414c8346b5",
   "metadata": {},
   "source": [
    "<h2>4.3 Array-Oriented programming</h2>"
   ]
  },
  {
   "cell_type": "code",
   "execution_count": 112,
   "id": "ab4f2d10-9f90-46fa-91e5-33901963433f",
   "metadata": {},
   "outputs": [],
   "source": [
    "points=np.arange(-5,5,0.01)"
   ]
  },
  {
   "cell_type": "code",
   "execution_count": 113,
   "id": "3385cff3-d5ec-4c30-a77f-b99adab0e7b6",
   "metadata": {},
   "outputs": [
    {
     "data": {
      "text/plain": [
       "array([[-5.  , -4.99, -4.98, ...,  4.97,  4.98,  4.99],\n",
       "       [-5.  , -4.99, -4.98, ...,  4.97,  4.98,  4.99],\n",
       "       [-5.  , -4.99, -4.98, ...,  4.97,  4.98,  4.99],\n",
       "       ...,\n",
       "       [-5.  , -4.99, -4.98, ...,  4.97,  4.98,  4.99],\n",
       "       [-5.  , -4.99, -4.98, ...,  4.97,  4.98,  4.99],\n",
       "       [-5.  , -4.99, -4.98, ...,  4.97,  4.98,  4.99]])"
      ]
     },
     "execution_count": 113,
     "metadata": {},
     "output_type": "execute_result"
    }
   ],
   "source": [
    "xs,ys=np.meshgrid(points,points)\n",
    "xs"
   ]
  },
  {
   "cell_type": "code",
   "execution_count": 114,
   "id": "1fa78717-a13c-4c05-a371-399874ac7f81",
   "metadata": {},
   "outputs": [
    {
     "data": {
      "text/plain": [
       "array([[7.07106781, 7.06400028, 7.05693985, ..., 7.04988652, 7.05693985,\n",
       "        7.06400028],\n",
       "       [7.06400028, 7.05692568, 7.04985815, ..., 7.04279774, 7.04985815,\n",
       "        7.05692568],\n",
       "       [7.05693985, 7.04985815, 7.04278354, ..., 7.03571603, 7.04278354,\n",
       "        7.04985815],\n",
       "       ...,\n",
       "       [7.04988652, 7.04279774, 7.03571603, ..., 7.0286414 , 7.03571603,\n",
       "        7.04279774],\n",
       "       [7.05693985, 7.04985815, 7.04278354, ..., 7.03571603, 7.04278354,\n",
       "        7.04985815],\n",
       "       [7.06400028, 7.05692568, 7.04985815, ..., 7.04279774, 7.04985815,\n",
       "        7.05692568]])"
      ]
     },
     "execution_count": 114,
     "metadata": {},
     "output_type": "execute_result"
    }
   ],
   "source": [
    "z=np.sqrt(xs**2 + ys**2)\n",
    "z"
   ]
  },
  {
   "cell_type": "code",
   "execution_count": 115,
   "id": "1c86511d-97b7-47a8-835b-1804b3d38f4e",
   "metadata": {},
   "outputs": [],
   "source": [
    "import matplotlib.pyplot as plt"
   ]
  },
  {
   "cell_type": "code",
   "execution_count": 116,
   "id": "0d4b4e22-f577-4e76-9b3c-b7fad53b1ec2",
   "metadata": {},
   "outputs": [
    {
     "data": {
      "text/plain": [
       "Text(0.5, 1.0, 'Image plot of $\\\\sqrt{x^2 + y^2}$ for a grid of values')"
      ]
     },
     "execution_count": 116,
     "metadata": {},
     "output_type": "execute_result"
    },
    {
     "data": {
      "image/png": "[encoded data removed]",
      "text/plain": [
       "<Figure size 432x288 with 2 Axes>"
      ]
     },
     "metadata": {
      "needs_background": "light"
     },
     "output_type": "display_data"
    }
   ],
   "source": [
    "plt.imshow(z,cmap=plt.cm.gray);plt.colorbar()\n",
    "plt.title(\"Image plot of $\\sqrt{x^2 + y^2}$ for a grid of values\")"
   ]
  },
  {
   "cell_type": "markdown",
   "id": "752ccc1a-7721-46c6-9c06-3650d7126089",
   "metadata": {},
   "source": [
    "<h3> Conditional logic as array operations </h3>"
   ]
  },
  {
   "cell_type": "code",
   "execution_count": 117,
   "id": "5b6b6f87-1619-42e2-a16f-8535d5e9d5fc",
   "metadata": {},
   "outputs": [],
   "source": [
    "xarr = np.array([1.1, 1.2, 1.3, 1.4, 1.5])\n",
    "yarr = np.array([2.1, 2.2, 2.3, 2.4, 2.5])\n",
    "cond = np.array([True, False, True, True, False])"
   ]
  },
  {
   "cell_type": "code",
   "execution_count": 118,
   "id": "ed32eb00-1b1a-4e7c-881f-1c26c61c9f58",
   "metadata": {},
   "outputs": [],
   "source": [
    "result=[(x if c else y)\n",
    "        for x,y,c in zip(xarr,yarr,cond)]"
   ]
  },
  {
   "cell_type": "code",
   "execution_count": 119,
   "id": "ad6069d9-9c69-459d-bfa6-8c9373a80860",
   "metadata": {},
   "outputs": [
    {
     "data": {
      "text/plain": [
       "[1.1, 2.2, 1.3, 1.4, 2.5]"
      ]
     },
     "execution_count": 119,
     "metadata": {},
     "output_type": "execute_result"
    }
   ],
   "source": [
    "result"
   ]
  },
  {
   "cell_type": "markdown",
   "id": "44d50b26-0aea-42a6-a893-f82750086b11",
   "metadata": {},
   "source": [
    "Python code, not very fast. Only for 2 dimensions"
   ]
  },
  {
   "cell_type": "code",
   "execution_count": 120,
   "id": "351c077c-6988-44c1-b3c4-0b5c942d09e8",
   "metadata": {},
   "outputs": [
    {
     "data": {
      "text/plain": [
       "array([1.1, 2.2, 1.3, 1.4, 2.5])"
      ]
     },
     "execution_count": 120,
     "metadata": {},
     "output_type": "execute_result"
    }
   ],
   "source": [
    "result=np.where(cond,xarr,yarr)\n",
    "result"
   ]
  },
  {
   "cell_type": "code",
   "execution_count": 121,
   "id": "797973a8-4334-4699-8d8e-cdcb87637cf4",
   "metadata": {},
   "outputs": [
    {
     "data": {
      "text/plain": [
       "array([[ 2.49635157, -1.73481733,  0.10934324, -1.64549161],\n",
       "       [ 1.08239347,  0.12939947,  0.17405004, -1.14546308],\n",
       "       [-0.12775172, -0.31764868,  0.0994061 , -0.39304164],\n",
       "       [-0.38777698, -0.59328834, -1.36916901,  0.11917623]])"
      ]
     },
     "execution_count": 121,
     "metadata": {},
     "output_type": "execute_result"
    }
   ],
   "source": [
    "arr=np.random.randn(4,4)\n",
    "arr"
   ]
  },
  {
   "cell_type": "code",
   "execution_count": 122,
   "id": "757cde7d-aa58-4257-956b-8ca4ff958027",
   "metadata": {},
   "outputs": [
    {
     "data": {
      "text/plain": [
       "array([[ True, False,  True, False],\n",
       "       [ True,  True,  True, False],\n",
       "       [False, False,  True, False],\n",
       "       [False, False, False,  True]])"
      ]
     },
     "execution_count": 122,
     "metadata": {},
     "output_type": "execute_result"
    }
   ],
   "source": [
    "arr>0"
   ]
  },
  {
   "cell_type": "code",
   "execution_count": 123,
   "id": "715d53fc-b3c9-4d74-9f25-2e320516922d",
   "metadata": {},
   "outputs": [
    {
     "data": {
      "text/plain": [
       "array([[ 2, -2,  2, -2],\n",
       "       [ 2,  2,  2, -2],\n",
       "       [-2, -2,  2, -2],\n",
       "       [-2, -2, -2,  2]])"
      ]
     },
     "execution_count": 123,
     "metadata": {},
     "output_type": "execute_result"
    }
   ],
   "source": [
    "np.where(arr>0,2,-2)"
   ]
  },
  {
   "cell_type": "markdown",
   "id": "46d23e2b-8038-4d21-b973-1f66abc6ed7d",
   "metadata": {},
   "source": [
    "np.where(condition arg, number or array arguments...) "
   ]
  },
  {
   "cell_type": "code",
   "execution_count": 124,
   "id": "5b662661-1693-4c6d-a3f2-6c13f831455a",
   "metadata": {},
   "outputs": [
    {
     "data": {
      "text/plain": [
       "array([['pos', '-1.7348173297672334', 'pos', '-1.6454916083157334'],\n",
       "       ['pos', 'pos', 'pos', '-1.1454630835458708'],\n",
       "       ['-0.12775171783359274', '-0.3176486779869958', 'pos',\n",
       "        '-0.39304164185584634'],\n",
       "       ['-0.38777698475561995', '-0.5932883356649552',\n",
       "        '-1.3691690135461254', 'pos']], dtype='<U32')"
      ]
     },
     "execution_count": 124,
     "metadata": {},
     "output_type": "execute_result"
    }
   ],
   "source": [
    "np.where(arr>0,\"pos\",arr)"
   ]
  },
  {
   "cell_type": "markdown",
   "id": "d324d480-52d4-4f8a-ac8e-331091583549",
   "metadata": {},
   "source": [
    "<h3>Mathematical and statistical methods</h3>"
   ]
  },
  {
   "cell_type": "code",
   "execution_count": 125,
   "id": "a14a13b0-516d-46ca-82fe-d151dbc4b6bc",
   "metadata": {},
   "outputs": [
    {
     "data": {
      "text/plain": [
       "array([[-2.16196453, -0.2886267 ,  0.21225932,  0.51759043],\n",
       "       [-1.18109106,  0.36673344, -0.47081581,  0.20315863],\n",
       "       [ 0.26749822,  0.33852486, -0.60403883,  0.74977218],\n",
       "       [ 0.21697876, -0.19671115,  0.48914402,  0.99236214],\n",
       "       [ 1.74836014, -0.71253368,  1.40546139, -0.74682313]])"
      ]
     },
     "execution_count": 125,
     "metadata": {},
     "output_type": "execute_result"
    }
   ],
   "source": [
    "arr=np.random.randn(5,4)\n",
    "arr"
   ]
  },
  {
   "cell_type": "code",
   "execution_count": 126,
   "id": "1faa39a3-8e5c-430e-9d8e-d4d089a97114",
   "metadata": {},
   "outputs": [
    {
     "data": {
      "text/plain": [
       "0.057261932644932866"
      ]
     },
     "execution_count": 126,
     "metadata": {},
     "output_type": "execute_result"
    }
   ],
   "source": [
    "arr.mean()"
   ]
  },
  {
   "cell_type": "code",
   "execution_count": 127,
   "id": "a7ae8332-2dc6-4ae3-bc4b-b388aebd1130",
   "metadata": {},
   "outputs": [
    {
     "data": {
      "text/plain": [
       "0.057261932644932866"
      ]
     },
     "execution_count": 127,
     "metadata": {},
     "output_type": "execute_result"
    }
   ],
   "source": [
    "np.mean(arr)"
   ]
  },
  {
   "cell_type": "code",
   "execution_count": 128,
   "id": "7df55e81-a7d6-45c8-bee3-9a2ca51704b4",
   "metadata": {},
   "outputs": [
    {
     "data": {
      "text/plain": [
       "1.1452386528986573"
      ]
     },
     "execution_count": 128,
     "metadata": {},
     "output_type": "execute_result"
    }
   ],
   "source": [
    "arr.sum()"
   ]
  },
  {
   "cell_type": "code",
   "execution_count": 129,
   "id": "fe19e41d-e4cf-4b2a-8e96-9bcd82b07857",
   "metadata": {},
   "outputs": [
    {
     "data": {
      "text/plain": [
       "array([-0.43018537, -0.2705037 ,  0.18793911,  0.37544344,  0.42361618])"
      ]
     },
     "execution_count": 129,
     "metadata": {},
     "output_type": "execute_result"
    }
   ],
   "source": [
    "arr.mean(axis=1)"
   ]
  },
  {
   "cell_type": "code",
   "execution_count": 130,
   "id": "66e986ae-c6dc-4cde-8581-d8a06d0af890",
   "metadata": {},
   "outputs": [
    {
     "data": {
      "text/plain": [
       "array([-1.11021847, -0.49261323,  1.03201009,  1.71606026])"
      ]
     },
     "execution_count": 130,
     "metadata": {},
     "output_type": "execute_result"
    }
   ],
   "source": [
    "arr.sum(axis=0)"
   ]
  },
  {
   "cell_type": "markdown",
   "id": "4534da7d-c439-4d3d-9268-164ec26bf4c6",
   "metadata": {},
   "source": [
    "other methods that do not aggregate: cumsum cumprod"
   ]
  },
  {
   "cell_type": "code",
   "execution_count": 131,
   "id": "d9838479-c3e9-43e0-bde5-946b0959ad36",
   "metadata": {},
   "outputs": [
    {
     "data": {
      "text/plain": [
       "array([1, 2, 3, 4, 5, 6, 7, 8])"
      ]
     },
     "execution_count": 131,
     "metadata": {},
     "output_type": "execute_result"
    }
   ],
   "source": [
    "arr=np.array([1,2,3,4,5,6,7,8])\n",
    "arr"
   ]
  },
  {
   "cell_type": "code",
   "execution_count": 132,
   "id": "d3858a50-e1d3-4a3b-b7c6-6604970572e3",
   "metadata": {},
   "outputs": [
    {
     "data": {
      "text/plain": [
       "array([ 1,  3,  6, 10, 15, 21, 28, 36])"
      ]
     },
     "execution_count": 132,
     "metadata": {},
     "output_type": "execute_result"
    }
   ],
   "source": [
    "arr.cumsum()"
   ]
  },
  {
   "cell_type": "code",
   "execution_count": 133,
   "id": "859a8cda-45c8-40ed-8f64-9f6236c954d4",
   "metadata": {},
   "outputs": [
    {
     "data": {
      "text/plain": [
       "array([[0, 1, 2],\n",
       "       [3, 4, 5],\n",
       "       [6, 7, 8]])"
      ]
     },
     "execution_count": 133,
     "metadata": {},
     "output_type": "execute_result"
    }
   ],
   "source": [
    "arr=np.arange(9).reshape(3,3)\n",
    "arr"
   ]
  },
  {
   "cell_type": "code",
   "execution_count": 134,
   "id": "0f2347f1-87aa-4c1b-b8aa-95354368ba96",
   "metadata": {},
   "outputs": [
    {
     "data": {
      "text/plain": [
       "array([[ 0,  1,  2],\n",
       "       [ 3,  5,  7],\n",
       "       [ 9, 12, 15]])"
      ]
     },
     "execution_count": 134,
     "metadata": {},
     "output_type": "execute_result"
    }
   ],
   "source": [
    "arr.cumsum(axis=0)"
   ]
  },
  {
   "cell_type": "code",
   "execution_count": 135,
   "id": "66a1f6a4-fe34-418b-b6d8-5fe48a7bdab3",
   "metadata": {},
   "outputs": [
    {
     "data": {
      "text/plain": [
       "array([[ 0,  1,  3],\n",
       "       [ 3,  7, 12],\n",
       "       [ 6, 13, 21]])"
      ]
     },
     "execution_count": 135,
     "metadata": {},
     "output_type": "execute_result"
    }
   ],
   "source": [
    "arr.cumsum(axis=1)"
   ]
  },
  {
   "cell_type": "code",
   "execution_count": 136,
   "id": "b1ad4e64-5dc1-4347-b556-f4c81b9423d5",
   "metadata": {},
   "outputs": [
    {
     "data": {
      "text/plain": [
       "array([[ 0,  1,  2],\n",
       "       [ 0,  4, 10],\n",
       "       [ 0, 28, 80]])"
      ]
     },
     "execution_count": 136,
     "metadata": {},
     "output_type": "execute_result"
    }
   ],
   "source": [
    "arr.cumprod(axis=0)"
   ]
  },
  {
   "cell_type": "markdown",
   "id": "ebf0b433-a4ca-4c95-8893-ae93781007a6",
   "metadata": {},
   "source": [
    "<h3>Methods for boolean arrays</h3>"
   ]
  },
  {
   "cell_type": "markdown",
   "id": "6b46b995-2c31-4f78-8b16-74526de522da",
   "metadata": {},
   "source": [
    "True=1 and False = 0 => sum() counts true values"
   ]
  },
  {
   "cell_type": "code",
   "execution_count": 137,
   "id": "6d15986d-36f5-4dc8-ac5b-bea7c47b3ff8",
   "metadata": {},
   "outputs": [
    {
     "data": {
      "text/plain": [
       "array([False, False,  True, False])"
      ]
     },
     "execution_count": 137,
     "metadata": {},
     "output_type": "execute_result"
    }
   ],
   "source": [
    "bools=np.array([False, False, True, False])\n",
    "bools"
   ]
  },
  {
   "cell_type": "code",
   "execution_count": 138,
   "id": "6b74a0ee-ea45-4075-be01-2d1d4c76cb23",
   "metadata": {},
   "outputs": [
    {
     "data": {
      "text/plain": [
       "1"
      ]
     },
     "execution_count": 138,
     "metadata": {},
     "output_type": "execute_result"
    }
   ],
   "source": [
    "bools.sum()"
   ]
  },
  {
   "cell_type": "code",
   "execution_count": 139,
   "id": "5bdcda55-9ae3-498f-91da-a82faa6bebb1",
   "metadata": {},
   "outputs": [
    {
     "data": {
      "text/plain": [
       "True"
      ]
     },
     "execution_count": 139,
     "metadata": {},
     "output_type": "execute_result"
    }
   ],
   "source": [
    "bools.any()"
   ]
  },
  {
   "cell_type": "code",
   "execution_count": 140,
   "id": "cfb96ecf-989b-42e4-b2b1-730896fbddca",
   "metadata": {},
   "outputs": [
    {
     "data": {
      "text/plain": [
       "False"
      ]
     },
     "execution_count": 140,
     "metadata": {},
     "output_type": "execute_result"
    }
   ],
   "source": [
    "bools.all()"
   ]
  },
  {
   "cell_type": "markdown",
   "id": "de3eeee2-0e5a-41ef-a85c-472de3b0214c",
   "metadata": {},
   "source": [
    "<h3>Sorting</h3>"
   ]
  },
  {
   "cell_type": "code",
   "execution_count": 141,
   "id": "f518922e-30fe-4438-b008-1e2edb9d390b",
   "metadata": {},
   "outputs": [
    {
     "data": {
      "text/plain": [
       "array([ 0.83369306,  0.11419125,  0.07314917,  1.45927307, -0.15674093,\n",
       "        0.62593162])"
      ]
     },
     "execution_count": 141,
     "metadata": {},
     "output_type": "execute_result"
    }
   ],
   "source": [
    "arr=np.random.randn(6)\n",
    "arr"
   ]
  },
  {
   "cell_type": "code",
   "execution_count": 142,
   "id": "02741a73-76d2-4859-8e4e-34a348147301",
   "metadata": {},
   "outputs": [],
   "source": [
    "arr.sort()"
   ]
  },
  {
   "cell_type": "code",
   "execution_count": 143,
   "id": "18586d6d-6d41-4486-a85b-9ed56c9c8b8b",
   "metadata": {},
   "outputs": [
    {
     "data": {
      "text/plain": [
       "array([-0.15674093,  0.07314917,  0.11419125,  0.62593162,  0.83369306,\n",
       "        1.45927307])"
      ]
     },
     "execution_count": 143,
     "metadata": {},
     "output_type": "execute_result"
    }
   ],
   "source": [
    "arr"
   ]
  },
  {
   "cell_type": "code",
   "execution_count": 144,
   "id": "6299e438-37cb-42f1-bbc2-38f75a4f01ed",
   "metadata": {},
   "outputs": [
    {
     "data": {
      "text/plain": [
       "array([[ 1.45646479, -0.14783653, -0.37517146],\n",
       "       [ 0.17961   , -0.40716251, -0.41533226],\n",
       "       [ 0.08643183, -0.45424237,  0.45817027],\n",
       "       [ 1.27680702, -0.13344505, -1.13075686],\n",
       "       [ 0.1073081 , -0.32991281,  0.80262609]])"
      ]
     },
     "execution_count": 144,
     "metadata": {},
     "output_type": "execute_result"
    }
   ],
   "source": [
    "arr=np.random.randn(5,3)\n",
    "arr"
   ]
  },
  {
   "cell_type": "code",
   "execution_count": 145,
   "id": "7bc7fb20-1076-4b36-b0d6-a4877caddf4c",
   "metadata": {},
   "outputs": [],
   "source": [
    "arr.sort(axis=1)"
   ]
  },
  {
   "cell_type": "code",
   "execution_count": 146,
   "id": "78d5c6ae-e6f1-4cf2-95da-65e7bbf9a4a0",
   "metadata": {},
   "outputs": [
    {
     "data": {
      "text/plain": [
       "array([[-0.37517146, -0.14783653,  1.45646479],\n",
       "       [-0.41533226, -0.40716251,  0.17961   ],\n",
       "       [-0.45424237,  0.08643183,  0.45817027],\n",
       "       [-1.13075686, -0.13344505,  1.27680702],\n",
       "       [-0.32991281,  0.1073081 ,  0.80262609]])"
      ]
     },
     "execution_count": 146,
     "metadata": {},
     "output_type": "execute_result"
    }
   ],
   "source": [
    "arr"
   ]
  },
  {
   "cell_type": "markdown",
   "id": "6e1f4708-163f-43d3-9e16-0ebb980402f4",
   "metadata": {},
   "source": [
    "<h3>Unique and other sets methods</h3>"
   ]
  },
  {
   "cell_type": "code",
   "execution_count": 147,
   "id": "cfbc6c01-7f68-4282-871c-e0438a6e217e",
   "metadata": {},
   "outputs": [],
   "source": [
    "names = np.array(['Bob', 'Joe', 'Will', 'Bob', 'Will', 'Joe', 'Joe'])"
   ]
  },
  {
   "cell_type": "code",
   "execution_count": 148,
   "id": "ba0fff2d-e020-43ec-8060-adc8810c92cc",
   "metadata": {},
   "outputs": [
    {
     "data": {
      "text/plain": [
       "array(['Bob', 'Joe', 'Will'], dtype='<U4')"
      ]
     },
     "execution_count": 148,
     "metadata": {},
     "output_type": "execute_result"
    }
   ],
   "source": [
    "np.unique(names)"
   ]
  },
  {
   "cell_type": "code",
   "execution_count": 149,
   "id": "a28ecdd5-464f-4470-bee2-244fa66929fe",
   "metadata": {},
   "outputs": [
    {
     "data": {
      "text/plain": [
       "array([1, 2, 3, 4])"
      ]
     },
     "execution_count": 149,
     "metadata": {},
     "output_type": "execute_result"
    }
   ],
   "source": [
    "ints = np.array([3, 3, 3, 2, 2, 1, 1, 4, 4])\n",
    "np.unique(ints)"
   ]
  },
  {
   "cell_type": "code",
   "execution_count": 150,
   "id": "a8cb7353-bc58-4429-b219-02c7fc5bfdd5",
   "metadata": {},
   "outputs": [
    {
     "data": {
      "text/plain": [
       "array([ True, False, False, False, False,  True,  True])"
      ]
     },
     "execution_count": 150,
     "metadata": {},
     "output_type": "execute_result"
    }
   ],
   "source": [
    "values = np.array([6, 0, 0, 3, 2, 5, 6])\n",
    "np.in1d(values,[5,6])"
   ]
  },
  {
   "cell_type": "markdown",
   "id": "d67f4097-8e52-4405-b983-b269339feeee",
   "metadata": {},
   "source": [
    "<h2>4.4 File i/o with arrays</h2>"
   ]
  },
  {
   "cell_type": "markdown",
   "id": "cdf76615-97cb-467c-896b-631d2b231cef",
   "metadata": {},
   "source": [
    "Numpy preferred for binary data, Pandas for text,csv,xls..."
   ]
  },
  {
   "cell_type": "code",
   "execution_count": 151,
   "id": "c5f44b46-8917-4311-b4c6-35f623ea9e74",
   "metadata": {},
   "outputs": [],
   "source": [
    "arr=np.random.randn(50,50)\n",
    "np.save('50x50rand',arr)"
   ]
  },
  {
   "cell_type": "code",
   "execution_count": 152,
   "id": "d9abed28-ccac-45bc-9b06-2778c43a8c78",
   "metadata": {},
   "outputs": [
    {
     "data": {
      "text/plain": [
       "array([[-1.20606533,  0.19297097,  0.43137339, ...,  0.03685605,\n",
       "         1.40119159, -0.15540889],\n",
       "       [-0.16647526, -1.48015908,  0.40146923, ...,  1.77948642,\n",
       "        -0.08774874,  1.84289307],\n",
       "       [-0.43662386,  1.42857457, -2.52610278, ..., -0.55027611,\n",
       "         2.04364633,  0.82988777],\n",
       "       ...,\n",
       "       [ 0.72718336,  2.01121415, -0.05125957, ..., -1.12025734,\n",
       "         1.86498265, -1.77671934],\n",
       "       [-0.43679684,  0.25823969, -1.06621791, ..., -0.82461599,\n",
       "        -0.33290565, -0.29577781],\n",
       "       [ 1.03010539,  0.7748925 , -0.49492538, ...,  2.28163731,\n",
       "         0.32786849,  0.37808398]])"
      ]
     },
     "execution_count": 152,
     "metadata": {},
     "output_type": "execute_result"
    }
   ],
   "source": [
    "np.load('50x50rand.npy')"
   ]
  },
  {
   "cell_type": "markdown",
   "id": "1a11d5ba-3c59-484d-ad92-a58ee1fd5345",
   "metadata": {},
   "source": [
    ".npy = raw, .npz = several arrays comp or uncompressed"
   ]
  },
  {
   "cell_type": "code",
   "execution_count": 153,
   "id": "65a626c8-dc64-4854-905a-f2f29573b5bd",
   "metadata": {},
   "outputs": [],
   "source": [
    "arr_a=np.random.randn(20)\n",
    "arr_b=np.random.randn(25)\n",
    "np.savez('20r_25r.npz',a=arr_a,b=arr_b)"
   ]
  },
  {
   "cell_type": "code",
   "execution_count": 154,
   "id": "d69a1f70-88d8-4419-a175-6f33d979160d",
   "metadata": {},
   "outputs": [
    {
     "data": {
      "text/plain": [
       "array([ 0.30222479, -0.51143089,  0.17923552, -0.86533546, -0.68030709,\n",
       "       -0.22316564, -0.96837472,  0.11544291, -0.17371826,  0.85096551,\n",
       "       -1.2608102 , -1.03397762,  0.20195503,  0.69185302, -0.55755088,\n",
       "        0.08024322, -0.17806498, -1.11605387,  0.49471121, -0.98814582])"
      ]
     },
     "execution_count": 154,
     "metadata": {},
     "output_type": "execute_result"
    }
   ],
   "source": [
    "file=np.load('20r_25r.npz')\n",
    "file['a']"
   ]
  },
  {
   "cell_type": "code",
   "execution_count": 155,
   "id": "b840e6dc-321c-4bda-8059-250138c5b786",
   "metadata": {},
   "outputs": [],
   "source": [
    "np.savez_compressed('20r_25r.npz',a=arr_a,b=arr_b)"
   ]
  },
  {
   "cell_type": "markdown",
   "id": "879fafbc-07d0-4e33-83df-1b4cdfd4c6c7",
   "metadata": {},
   "source": [
    "<h2>4.5 Linear algebra</h2>"
   ]
  },
  {
   "cell_type": "markdown",
   "id": "bb6a4e60-bf39-46ff-8636-1c7b7b36e30f",
   "metadata": {},
   "source": [
    "Arithmetics operators (+,-,*,/,mod) are element-wise"
   ]
  },
  {
   "cell_type": "code",
   "execution_count": 156,
   "id": "ee9836e7-81c8-4bb3-8aef-e8e99b231ae3",
   "metadata": {},
   "outputs": [
    {
     "data": {
      "text/plain": [
       "array([[1., 2., 3.],\n",
       "       [4., 5., 6.]])"
      ]
     },
     "execution_count": 156,
     "metadata": {},
     "output_type": "execute_result"
    }
   ],
   "source": [
    "x = np.array([[1., 2., 3.], [4., 5., 6.]])\n",
    "y = np.array([[6., 23.], [-1, 7], [8, 9]])\n",
    "x"
   ]
  },
  {
   "cell_type": "code",
   "execution_count": 157,
   "id": "f8b4c727-fe3d-4643-9f9e-b3bae1bb7ffb",
   "metadata": {},
   "outputs": [
    {
     "data": {
      "text/plain": [
       "array([[ 6., 23.],\n",
       "       [-1.,  7.],\n",
       "       [ 8.,  9.]])"
      ]
     },
     "execution_count": 157,
     "metadata": {},
     "output_type": "execute_result"
    }
   ],
   "source": [
    "y"
   ]
  },
  {
   "cell_type": "code",
   "execution_count": 158,
   "id": "a4f3d8ce-35b3-4fb7-82f8-91d6810d56c0",
   "metadata": {},
   "outputs": [
    {
     "data": {
      "text/plain": [
       "array([[ 28.,  64.],\n",
       "       [ 67., 181.]])"
      ]
     },
     "execution_count": 158,
     "metadata": {},
     "output_type": "execute_result"
    }
   ],
   "source": [
    "x.dot(y)"
   ]
  },
  {
   "cell_type": "code",
   "execution_count": 159,
   "id": "5c5561ae-ef09-4c0a-ae51-ffa737042ac5",
   "metadata": {},
   "outputs": [
    {
     "data": {
      "text/plain": [
       "array([[ 28.,  64.],\n",
       "       [ 67., 181.]])"
      ]
     },
     "execution_count": 159,
     "metadata": {},
     "output_type": "execute_result"
    }
   ],
   "source": [
    "np.dot(x,y)"
   ]
  },
  {
   "cell_type": "code",
   "execution_count": 160,
   "id": "a2c7a018-df04-421c-a8bb-8e1cf22a6088",
   "metadata": {},
   "outputs": [],
   "source": [
    "ones_v=np.ones(3)"
   ]
  },
  {
   "cell_type": "code",
   "execution_count": 161,
   "id": "1675e4db-ec39-4d13-8907-5abef7cbfe65",
   "metadata": {},
   "outputs": [
    {
     "data": {
      "text/plain": [
       "array([1., 1., 1.])"
      ]
     },
     "execution_count": 161,
     "metadata": {},
     "output_type": "execute_result"
    }
   ],
   "source": [
    "ones_v"
   ]
  },
  {
   "cell_type": "code",
   "execution_count": 162,
   "id": "bba03888-e1ed-41ce-83b1-5ce4d7682c35",
   "metadata": {},
   "outputs": [
    {
     "data": {
      "text/plain": [
       "(2, 3)"
      ]
     },
     "execution_count": 162,
     "metadata": {},
     "output_type": "execute_result"
    }
   ],
   "source": [
    "np.shape(x)"
   ]
  },
  {
   "cell_type": "code",
   "execution_count": 163,
   "id": "62a06909-900e-4b01-af42-e4b8fe60e156",
   "metadata": {},
   "outputs": [
    {
     "data": {
      "text/plain": [
       "(3,)"
      ]
     },
     "execution_count": 163,
     "metadata": {},
     "output_type": "execute_result"
    }
   ],
   "source": [
    "np.shape(ones_v)"
   ]
  },
  {
   "cell_type": "code",
   "execution_count": 164,
   "id": "586f98d8-f10e-4fac-870c-a2f775ed8672",
   "metadata": {},
   "outputs": [
    {
     "data": {
      "text/plain": [
       "array([ 6., 15.])"
      ]
     },
     "execution_count": 164,
     "metadata": {},
     "output_type": "execute_result"
    }
   ],
   "source": [
    "x.dot(ones_v)"
   ]
  },
  {
   "cell_type": "code",
   "execution_count": 165,
   "id": "4d0c7bd3-8410-4888-bd19-b01d37eb99a0",
   "metadata": {},
   "outputs": [
    {
     "data": {
      "text/plain": [
       "array([ 6., 15.])"
      ]
     },
     "execution_count": 165,
     "metadata": {},
     "output_type": "execute_result"
    }
   ],
   "source": [
    "x@ones_v"
   ]
  },
  {
   "cell_type": "markdown",
   "id": "2a25e80f-aa26-45b9-9bce-e183bdc92539",
   "metadata": {},
   "source": [
    "more functions in numpy.linalg"
   ]
  },
  {
   "cell_type": "code",
   "execution_count": 166,
   "id": "2c86ea8e-f066-4b99-97b4-e7b808930470",
   "metadata": {},
   "outputs": [],
   "source": [
    "from numpy.linalg import inv,qr"
   ]
  },
  {
   "cell_type": "code",
   "execution_count": 167,
   "id": "de6b8062-9ea3-4b85-a152-eea99ab52c51",
   "metadata": {},
   "outputs": [],
   "source": [
    "x=np.random.randn(5,5)"
   ]
  },
  {
   "cell_type": "code",
   "execution_count": 168,
   "id": "5cb7d67b-52ab-468b-a6a3-45c4e76917b8",
   "metadata": {},
   "outputs": [],
   "source": [
    "mat=x.T.dot(x)"
   ]
  },
  {
   "cell_type": "code",
   "execution_count": 169,
   "id": "018e462e-7176-4aa9-af09-9c7c7f192a1b",
   "metadata": {},
   "outputs": [
    {
     "data": {
      "text/plain": [
       "array([[ 8.17327446, -2.26503528,  1.52370678, -1.44900953, -3.48196476],\n",
       "       [-2.26503528,  4.62483232, -1.5223542 ,  1.18516886,  2.77841046],\n",
       "       [ 1.52370678, -1.5223542 ,  3.32805163,  1.27214249, -1.23104411],\n",
       "       [-1.44900953,  1.18516886,  1.27214249,  3.3479076 ,  2.38717853],\n",
       "       [-3.48196476,  2.77841046, -1.23104411,  2.38717853,  4.64589514]])"
      ]
     },
     "execution_count": 169,
     "metadata": {},
     "output_type": "execute_result"
    }
   ],
   "source": [
    "mat"
   ]
  },
  {
   "cell_type": "code",
   "execution_count": 170,
   "id": "0cde1a7e-1e17-430a-9f90-4618951f7583",
   "metadata": {},
   "outputs": [
    {
     "data": {
      "text/plain": [
       "array([[ 1.83777909e-01,  9.37032781e-04, -4.16585792e-02,\n",
       "         8.04620080e-03,  1.22003071e-01],\n",
       "       [ 9.37032781e-04,  3.72394068e-01,  1.63672631e-01,\n",
       "        -1.04546892e-01, -1.24914686e-01],\n",
       "       [-4.16585792e-02,  1.63672631e-01,  8.55752758e-01,\n",
       "        -7.42976870e-01,  4.79409092e-01],\n",
       "       [ 8.04620080e-03, -1.04546892e-01, -7.42976870e-01,\n",
       "         1.12527019e+00, -7.06509139e-01],\n",
       "       [ 1.22003071e-01, -1.24914686e-01,  4.79409092e-01,\n",
       "        -7.06509139e-01,  8.71438491e-01]])"
      ]
     },
     "execution_count": 170,
     "metadata": {},
     "output_type": "execute_result"
    }
   ],
   "source": [
    "inv(mat)"
   ]
  },
  {
   "cell_type": "code",
   "execution_count": 171,
   "id": "8e110a72-0fcb-41c1-b6f6-e6437bba9252",
   "metadata": {},
   "outputs": [
    {
     "data": {
      "text/plain": [
       "array([[ 1.00000000e+00, -3.87787136e-17, -1.04971364e-16,\n",
       "        -3.46973095e-17,  1.35902671e-16],\n",
       "       [-5.68433233e-17,  1.00000000e+00,  8.36682095e-17,\n",
       "        -7.56449392e-17,  6.12751067e-17],\n",
       "       [-4.97300736e-17,  2.26704345e-17,  1.00000000e+00,\n",
       "        -2.68096521e-16,  1.95719161e-16],\n",
       "       [-3.86060674e-17, -2.64222549e-17,  1.67487483e-16,\n",
       "         1.00000000e+00,  4.00502366e-17],\n",
       "       [ 1.14088414e-16, -1.69491547e-16,  4.15192160e-16,\n",
       "        -6.51515187e-17,  1.00000000e+00]])"
      ]
     },
     "execution_count": 171,
     "metadata": {},
     "output_type": "execute_result"
    }
   ],
   "source": [
    "mat.dot(inv(mat))"
   ]
  },
  {
   "cell_type": "code",
   "execution_count": 172,
   "id": "21bc0da7-a906-44ce-945b-8d6c4f3191d0",
   "metadata": {},
   "outputs": [
    {
     "data": {
      "text/plain": [
       "array([[-0.86891635, -0.40312612,  0.01306688, -0.2692641 ,  0.09899398],\n",
       "       [ 0.24080021, -0.84777581, -0.10291639,  0.44991835, -0.10135648],\n",
       "       [-0.16198817,  0.18891957, -0.81789519,  0.34321917,  0.38899524],\n",
       "       [ 0.15404696, -0.1166331 , -0.56538442, -0.56069009, -0.5732655 ],\n",
       "       [ 0.37017429, -0.2635747 , -0.02500789, -0.54120011,  0.70709011]])"
      ]
     },
     "execution_count": 172,
     "metadata": {},
     "output_type": "execute_result"
    }
   ],
   "source": [
    "q,r=qr(mat)\n",
    "q"
   ]
  },
  {
   "cell_type": "code",
   "execution_count": 173,
   "id": "61e692d4-798f-45c5-9643-cc562ef7ec58",
   "metadata": {},
   "outputs": [
    {
     "data": {
      "text/plain": [
       "array([[-9.40628459,  4.53945792, -2.48939312,  2.73779206,  5.98152105],\n",
       "       [ 0.        , -4.16587719,  1.48120131, -1.19996798, -2.68733099],\n",
       "       [ 0.        ,  0.        , -3.23387584, -3.13393965, -0.79043492],\n",
       "       [ 0.        ,  0.        ,  0.        , -1.80906073, -2.08771825],\n",
       "       [ 0.        ,  0.        ,  0.        ,  0.        ,  0.81140564]])"
      ]
     },
     "execution_count": 173,
     "metadata": {},
     "output_type": "execute_result"
    }
   ],
   "source": [
    "r"
   ]
  },
  {
   "cell_type": "code",
   "execution_count": 174,
   "id": "f6bf84b1-ba6f-4389-a8a0-ac4301857efb",
   "metadata": {},
   "outputs": [],
   "source": [
    "from numpy.linalg import det"
   ]
  },
  {
   "cell_type": "code",
   "execution_count": 175,
   "id": "39e80e5b-d2cc-4f04-a0e7-724f5d52438b",
   "metadata": {},
   "outputs": [
    {
     "data": {
      "text/plain": [
       "186.01119768359163"
      ]
     },
     "execution_count": 175,
     "metadata": {},
     "output_type": "execute_result"
    }
   ],
   "source": [
    "det(mat)"
   ]
  },
  {
   "cell_type": "markdown",
   "id": "c2303a27-c60d-466c-add8-2a146a3a6176",
   "metadata": {},
   "source": [
    "<h2>4.6 Pseudo RNG</h2>"
   ]
  },
  {
   "cell_type": "code",
   "execution_count": 176,
   "id": "13827c24-8db0-49cb-accc-0c1c6a7e43a6",
   "metadata": {},
   "outputs": [
    {
     "data": {
      "text/plain": [
       "array([[-1.42843981, -1.62645018,  2.21746928, -0.81505197],\n",
       "       [ 1.60481973,  0.35996362,  1.64376908, -2.42643488],\n",
       "       [-0.84166016,  1.28851697, -0.64771161, -0.87614799],\n",
       "       [-0.1544996 ,  0.737579  ,  0.26523661, -2.47749441]])"
      ]
     },
     "execution_count": 176,
     "metadata": {},
     "output_type": "execute_result"
    }
   ],
   "source": [
    "arr=np.random.normal(size=(4,4))\n",
    "arr"
   ]
  },
  {
   "cell_type": "markdown",
   "id": "d9d22f14-9fcb-4cde-a122-04f00420f912",
   "metadata": {},
   "source": [
    "permutation:\n",
    "Return a random permutation of a sequence, or return a permuted range\n",
    "\n",
    "shuffle:\n",
    "Randomly permute a sequence in-place\n",
    "\n",
    "rand:\n",
    "Draw samples from a uniform distribution\n",
    "\n",
    "randint:\n",
    "Draw random integers from a given low-to-high range\n",
    "\n",
    "randn:\n",
    "Draw samples from a normal distribution with mean 0 and standard deviation 1 (MATLAB-like interface)\n",
    "\n",
    "binomial:\n",
    "Draw samples from a binomial distribution\n",
    "\n",
    "normal:\n",
    "Draw samples from a normal (Gaussian) distribution\n",
    "\n",
    "beta:\n",
    "Draw samples from a beta distribution\n",
    "\n",
    "chisquare:\n",
    "Draw samples from a chi-square distribution\n",
    "\n",
    "gamma:\n",
    "Draw samples from a gamma distribution\n",
    "\n",
    "uniform:\n",
    "Draw samples from a uniform [0, 1) distribution\n"
   ]
  },
  {
   "cell_type": "markdown",
   "id": "0c76d0b4-dd09-46a1-9800-230df3f5cc90",
   "metadata": {},
   "source": [
    "<h2>Example:Random walks</h2>"
   ]
  },
  {
   "cell_type": "code",
   "execution_count": 177,
   "id": "1dc3a91a-0f40-459f-8fc8-bbb8c3da881e",
   "metadata": {},
   "outputs": [],
   "source": [
    "import random\n",
    "position=0\n",
    "walk=[position]\n",
    "steps=1000\n",
    "for i in range(steps):\n",
    "    step=1 if random.randint(0,1) else -1\n",
    "    position +=step\n",
    "    walk.append(position)"
   ]
  },
  {
   "cell_type": "code",
   "execution_count": 178,
   "id": "47ea1cb1-c665-4914-93c5-2e55c3f4ad67",
   "metadata": {},
   "outputs": [
    {
     "data": {
      "text/plain": [
       "[<matplotlib.lines.Line2D at 0x7fa6e826e500>]"
      ]
     },
     "execution_count": 178,
     "metadata": {},
     "output_type": "execute_result"
    },
    {
     "data": {
      "image/png": "[encoded data removed]",
      "text/plain": [
       "<Figure size 432x288 with 1 Axes>"
      ]
     },
     "metadata": {
      "needs_background": "light"
     },
     "output_type": "display_data"
    }
   ],
   "source": [
    "plt.plot(walk[:100])"
   ]
  },
  {
   "cell_type": "markdown",
   "id": "a67b5bd2-529f-4dea-8c9c-97581abb83a1",
   "metadata": {},
   "source": [
    "1000 coin flips"
   ]
  },
  {
   "cell_type": "code",
   "execution_count": 181,
   "id": "3066a14d-43d5-4ff9-92af-b5bdcbf99a67",
   "metadata": {},
   "outputs": [],
   "source": [
    "nsteps=1000\n",
    "draws=np.random.randint(0,2,size=nsteps)\n",
    "steps=np.where(draws>0,1,-1)\n"
   ]
  },
  {
   "cell_type": "code",
   "execution_count": 187,
   "id": "0783b27d-2eec-4cce-abb5-0aa2c463e387",
   "metadata": {},
   "outputs": [
    {
     "data": {
      "text/plain": [
       "8"
      ]
     },
     "execution_count": 187,
     "metadata": {},
     "output_type": "execute_result"
    }
   ],
   "source": [
    "walk=steps.sum()\n",
    "walk"
   ]
  },
  {
   "cell_type": "code",
   "execution_count": 188,
   "id": "fbe50e73-7f7d-4aeb-b1d9-6db353e483d6",
   "metadata": {},
   "outputs": [
    {
     "data": {
      "text/plain": [
       "array([-1,  0,  1,  2,  3,  4,  5,  4,  3,  4,  3,  2,  3,  4,  5,  4,  3,\n",
       "        4,  5,  6,  7,  6,  5,  4,  5,  4,  5,  6,  7,  6,  7,  6,  7,  6,\n",
       "        5,  6,  7,  6,  5,  6,  5,  4,  3,  4,  5,  6,  5,  6,  7,  8,  9,\n",
       "       10,  9, 10,  9,  8,  9, 10, 11, 10, 11, 10, 11, 10,  9,  8,  7,  8,\n",
       "        7,  6,  5,  4,  5,  6,  7,  6,  7,  6,  7,  8,  7,  8,  7,  8,  7,\n",
       "        8,  9,  8,  7,  6,  7,  8,  7,  8,  7,  6,  5,  6,  5,  6,  5,  4,\n",
       "        5,  4,  5,  6,  5,  6,  5,  4,  3,  2,  3,  2,  1,  0, -1,  0, -1,\n",
       "       -2, -1, -2, -1, -2, -3, -2, -1, -2, -3, -4, -3, -4, -5, -4, -3, -2,\n",
       "       -1,  0, -1, -2, -3, -2, -1, -2, -3, -4, -3, -4, -3, -4, -3, -2, -3,\n",
       "       -2, -3, -4, -5, -4, -3, -4, -3, -4, -3, -4, -5, -6, -5, -4, -3, -2,\n",
       "       -3, -2, -3, -4, -3, -2, -1,  0, -1,  0,  1,  2,  1,  2,  1,  0,  1,\n",
       "        0,  1,  0,  1,  2,  1,  0, -1,  0,  1,  2,  3,  4,  5,  6,  7,  6,\n",
       "        7,  6,  5,  6,  5,  4,  3,  4,  3,  2,  1,  0, -1, -2, -1, -2, -1,\n",
       "       -2, -1,  0, -1,  0, -1,  0,  1,  0,  1,  2,  3,  4,  5,  4,  3,  4,\n",
       "        5,  6,  7,  8,  7,  6,  5,  6,  5,  6,  7,  6,  7,  8,  9, 10, 11,\n",
       "       12, 11, 10, 11, 10,  9, 10, 11, 12, 11, 12, 13, 12, 11, 10, 11, 10,\n",
       "       11, 10, 11, 12, 11, 10, 11, 12, 11, 10,  9,  8,  7,  6,  5,  4,  5,\n",
       "        4,  3,  2,  3,  4,  5,  6,  5,  6,  7,  6,  7,  8,  9, 10,  9, 10,\n",
       "       11, 10,  9,  8,  7,  6,  7,  6,  5,  4,  5,  6,  7,  8,  9,  8,  9,\n",
       "        8,  7,  6,  5,  6,  7,  6,  7,  8,  7,  8,  7,  8,  7,  8,  9, 10,\n",
       "        9, 10,  9,  8,  9, 10,  9,  8,  9,  8,  7,  6,  7,  8,  9,  8,  9,\n",
       "       10, 11, 12, 13, 12, 11, 12, 11, 10, 11, 12, 13, 14, 15, 14, 13, 12,\n",
       "       11, 10,  9, 10,  9,  8,  7,  8,  7,  6,  5,  4,  5,  6,  7,  6,  7,\n",
       "        8,  7,  8,  7,  8,  7,  6,  7,  8,  9, 10,  9, 10, 11, 10, 11, 10,\n",
       "        9,  8,  9, 10,  9, 10,  9,  8,  9,  8,  9,  8,  9,  8,  7,  8,  7,\n",
       "        8,  7,  6,  5,  6,  5,  4,  5,  4,  5,  4,  5,  6,  5,  6,  5,  4,\n",
       "        3,  2,  3,  2,  3,  4,  3,  4,  5,  4,  5,  4,  5,  6,  7,  8,  9,\n",
       "       10, 11, 12, 13, 12, 13, 14, 15, 14, 15, 14, 13, 12, 13, 14, 13, 12,\n",
       "       11, 12, 11, 12, 11, 10,  9, 10, 11, 10,  9, 10, 11, 12, 11, 10, 11,\n",
       "       10,  9, 10, 11, 12, 11, 10, 11, 10,  9, 10, 11, 12, 11, 12, 11, 12,\n",
       "       13, 14, 15, 16, 17, 18, 17, 18, 17, 16, 15, 14, 15, 14, 15, 14, 15,\n",
       "       16, 15, 14, 15, 16, 15, 16, 15, 16, 17, 16, 15, 14, 13, 12, 11, 10,\n",
       "       11, 12, 11, 10, 11, 10, 11, 10, 11, 12, 11, 12, 13, 12, 13, 14, 15,\n",
       "       14, 13, 14, 13, 12, 11, 12, 11, 10,  9, 10, 11, 10,  9, 10,  9,  8,\n",
       "        9, 10, 11, 10, 11, 12, 13, 14, 15, 16, 15, 14, 15, 16, 17, 18, 17,\n",
       "       18, 17, 18, 19, 20, 19, 18, 19, 20, 19, 20, 19, 20, 21, 20, 21, 20,\n",
       "       19, 18, 19, 18, 19, 18, 17, 18, 17, 18, 19, 20, 19, 18, 17, 18, 17,\n",
       "       16, 17, 16, 17, 16, 17, 16, 17, 16, 17, 16, 15, 14, 15, 16, 15, 16,\n",
       "       17, 18, 19, 18, 19, 18, 17, 16, 17, 18, 19, 20, 19, 20, 21, 20, 21,\n",
       "       22, 23, 22, 21, 20, 19, 18, 19, 20, 19, 20, 19, 20, 19, 20, 21, 20,\n",
       "       19, 20, 19, 20, 19, 20, 19, 20, 21, 20, 21, 20, 21, 20, 19, 18, 19,\n",
       "       18, 19, 18, 19, 20, 19, 20, 21, 22, 21, 22, 21, 20, 19, 20, 21, 20,\n",
       "       19, 20, 19, 20, 21, 20, 21, 22, 23, 22, 23, 22, 23, 24, 25, 24, 23,\n",
       "       22, 23, 24, 25, 26, 25, 26, 27, 26, 25, 26, 25, 26, 27, 26, 25, 26,\n",
       "       25, 26, 27, 26, 27, 26, 27, 26, 27, 28, 29, 30, 31, 30, 29, 30, 31,\n",
       "       30, 29, 28, 29, 30, 29, 30, 29, 30, 29, 28, 27, 26, 27, 26, 27, 28,\n",
       "       29, 30, 29, 30, 29, 28, 29, 28, 27, 26, 25, 26, 27, 28, 29, 30, 29,\n",
       "       30, 29, 30, 31, 30, 29, 30, 29, 28, 27, 26, 27, 26, 27, 26, 27, 28,\n",
       "       29, 30, 29, 28, 27, 28, 27, 26, 25, 26, 27, 28, 27, 28, 29, 30, 29,\n",
       "       28, 27, 26, 25, 24, 25, 26, 27, 28, 29, 28, 27, 26, 27, 26, 27, 28,\n",
       "       29, 28, 27, 26, 25, 26, 27, 26, 25, 26, 27, 26, 25, 24, 25, 26, 27,\n",
       "       26, 27, 28, 29, 28, 29, 28, 29, 28, 27, 26, 25, 26, 27, 26, 25, 26,\n",
       "       25, 24, 25, 24, 23, 22, 21, 22, 23, 22, 23, 24, 23, 24, 23, 24, 23,\n",
       "       22, 21, 22, 23, 24, 23, 22, 21, 22, 21, 22, 21, 20, 21, 22, 23, 22,\n",
       "       23, 24, 23, 22, 23, 22, 23, 22, 21, 20, 21, 20, 21, 22, 21, 20, 19,\n",
       "       18, 17, 16, 15, 16, 15, 16, 15, 14, 13, 12, 13, 12, 13, 12, 11, 12,\n",
       "       11, 12, 13, 14, 13, 12, 13, 12, 13, 14, 13, 12, 11, 12, 13, 12, 11,\n",
       "       12, 13, 12, 13, 12, 11, 10,  9,  8,  9,  8,  9, 10, 11, 12, 11, 10,\n",
       "       11, 10, 11, 10,  9, 10,  9, 10, 11, 12, 11, 10,  9,  8])"
      ]
     },
     "execution_count": 188,
     "metadata": {},
     "output_type": "execute_result"
    }
   ],
   "source": [
    "walk=steps.cumsum()\n",
    "walk"
   ]
  },
  {
   "cell_type": "code",
   "execution_count": 189,
   "id": "de4463d6-4ded-4b23-af17-d101977e24bd",
   "metadata": {},
   "outputs": [
    {
     "data": {
      "text/plain": [
       "-6"
      ]
     },
     "execution_count": 189,
     "metadata": {},
     "output_type": "execute_result"
    }
   ],
   "source": [
    "walk.min()"
   ]
  },
  {
   "cell_type": "code",
   "execution_count": 190,
   "id": "a6ff209f-49ea-4a91-bc4d-3ea9c75bb910",
   "metadata": {},
   "outputs": [
    {
     "data": {
      "text/plain": [
       "31"
      ]
     },
     "execution_count": 190,
     "metadata": {},
     "output_type": "execute_result"
    }
   ],
   "source": [
    "walk.max()"
   ]
  },
  {
   "cell_type": "markdown",
   "id": "a874ab3f-9c0c-4b69-862b-195bdfb654c7",
   "metadata": {},
   "source": [
    "<i>first crossing time</i>=index of the first time crossing a value"
   ]
  },
  {
   "cell_type": "code",
   "execution_count": 191,
   "id": "c23808e4-0822-4edf-98f9-ee01c42c143b",
   "metadata": {},
   "outputs": [
    {
     "data": {
      "text/plain": [
       "array([False, False, False, False, False, False, False, False, False,\n",
       "       False, False, False, False, False, False, False, False, False,\n",
       "       False, False, False, False, False, False, False, False, False,\n",
       "       False, False, False, False, False, False, False, False, False,\n",
       "       False, False, False, False, False, False, False, False, False,\n",
       "       False, False, False, False, False, False, False, False, False,\n",
       "       False, False, False, False, False, False, False, False, False,\n",
       "       False, False, False, False, False, False, False, False, False,\n",
       "       False, False, False, False, False, False, False, False, False,\n",
       "       False, False, False, False, False, False, False, False, False,\n",
       "       False, False, False, False, False, False, False, False, False,\n",
       "       False, False, False, False, False, False, False, False, False,\n",
       "       False, False, False, False, False, False, False, False, False,\n",
       "       False, False, False, False, False, False, False, False, False,\n",
       "       False, False, False, False, False, False, False, False, False,\n",
       "       False, False, False, False, False, False, False, False, False,\n",
       "       False, False, False, False, False, False, False, False, False,\n",
       "       False, False, False, False, False, False, False, False, False,\n",
       "       False, False, False, False, False, False, False, False, False,\n",
       "       False, False, False, False, False, False, False, False, False,\n",
       "       False, False, False, False, False, False, False, False, False,\n",
       "       False, False, False, False, False, False, False, False, False,\n",
       "       False, False, False, False, False, False, False, False, False,\n",
       "       False, False, False, False, False, False, False, False, False,\n",
       "       False, False, False, False, False, False, False, False, False,\n",
       "       False, False, False, False, False, False, False, False, False,\n",
       "       False, False, False, False, False, False, False, False, False,\n",
       "       False, False, False, False, False, False, False, False, False,\n",
       "       False, False, False, False, False, False, False, False, False,\n",
       "       False, False, False, False, False, False, False, False, False,\n",
       "       False, False, False, False, False, False, False, False, False,\n",
       "       False, False, False, False, False, False, False, False, False,\n",
       "       False, False, False, False, False, False, False, False, False,\n",
       "       False, False, False, False, False, False, False, False, False,\n",
       "       False, False, False, False, False, False, False, False, False,\n",
       "       False, False, False, False, False, False, False, False, False,\n",
       "       False, False, False, False, False, False, False, False, False,\n",
       "       False, False, False, False, False, False, False, False, False,\n",
       "       False, False, False, False, False, False, False, False, False,\n",
       "       False, False, False, False, False, False, False, False, False,\n",
       "       False, False, False, False, False, False, False, False, False,\n",
       "       False, False, False, False, False, False, False, False, False,\n",
       "       False, False, False, False, False, False, False, False, False,\n",
       "       False, False, False, False, False, False, False, False, False,\n",
       "       False, False, False, False, False, False, False, False, False,\n",
       "       False, False, False, False, False, False, False, False, False,\n",
       "       False, False, False, False, False, False, False, False, False,\n",
       "       False, False, False, False, False, False, False, False, False,\n",
       "       False, False, False, False, False, False, False, False, False,\n",
       "       False, False, False, False, False, False, False, False, False,\n",
       "       False, False, False, False, False, False, False, False, False,\n",
       "       False, False, False, False, False, False, False, False, False,\n",
       "       False, False, False, False, False, False, False, False, False,\n",
       "       False, False, False, False, False, False, False, False, False,\n",
       "       False, False, False, False, False, False, False, False, False,\n",
       "       False, False, False, False, False, False, False, False, False,\n",
       "       False, False, False, False, False, False, False, False, False,\n",
       "       False, False, False, False, False, False, False, False, False,\n",
       "       False, False, False, False, False, False, False, False, False,\n",
       "       False, False, False, False, False, False, False, False, False,\n",
       "       False, False, False, False, False, False, False, False, False,\n",
       "       False, False, False, False, False, False, False, False, False,\n",
       "       False, False, False, False, False, False, False, False, False,\n",
       "       False, False, False, False, False, False, False, False, False,\n",
       "       False, False, False, False, False, False, False, False, False,\n",
       "       False, False, False, False, False, False, False, False, False,\n",
       "       False, False, False, False, False,  True, False, False, False,\n",
       "        True, False,  True, False,  True,  True,  True,  True,  True,\n",
       "       False, False, False, False, False, False, False, False, False,\n",
       "       False, False,  True, False, False, False, False, False, False,\n",
       "       False, False, False, False, False, False, False, False, False,\n",
       "       False, False, False, False, False, False, False, False, False,\n",
       "       False, False, False, False, False, False, False, False, False,\n",
       "        True, False,  True,  True,  True,  True,  True,  True,  True,\n",
       "        True,  True, False, False, False,  True, False,  True, False,\n",
       "        True, False,  True,  True,  True, False,  True, False,  True,\n",
       "       False,  True, False,  True,  True,  True,  True,  True,  True,\n",
       "        True, False, False, False, False, False, False, False,  True,\n",
       "       False,  True,  True,  True,  True,  True,  True,  True, False,\n",
       "        True,  True,  True, False,  True, False,  True,  True,  True,\n",
       "        True,  True,  True,  True,  True,  True,  True,  True,  True,\n",
       "        True,  True,  True,  True,  True,  True,  True,  True,  True,\n",
       "        True,  True,  True,  True,  True,  True,  True,  True,  True,\n",
       "        True,  True,  True,  True,  True,  True,  True,  True,  True,\n",
       "        True,  True,  True,  True,  True,  True,  True,  True,  True,\n",
       "        True,  True,  True,  True,  True,  True,  True,  True,  True,\n",
       "        True,  True,  True,  True,  True,  True,  True,  True,  True,\n",
       "        True,  True,  True,  True,  True,  True,  True,  True,  True,\n",
       "        True,  True,  True,  True,  True,  True,  True,  True,  True,\n",
       "        True,  True,  True,  True,  True,  True,  True,  True,  True,\n",
       "        True,  True,  True,  True,  True,  True,  True,  True,  True,\n",
       "        True,  True,  True,  True,  True,  True,  True,  True,  True,\n",
       "        True,  True,  True,  True,  True,  True,  True,  True,  True,\n",
       "        True,  True,  True,  True,  True,  True,  True,  True,  True,\n",
       "        True,  True,  True,  True,  True,  True,  True,  True,  True,\n",
       "        True,  True,  True,  True,  True,  True,  True,  True,  True,\n",
       "        True,  True,  True,  True,  True,  True,  True,  True,  True,\n",
       "        True,  True,  True,  True,  True,  True,  True,  True,  True,\n",
       "        True,  True,  True,  True,  True,  True,  True,  True,  True,\n",
       "        True,  True,  True,  True,  True,  True,  True,  True,  True,\n",
       "        True,  True,  True,  True,  True,  True,  True,  True,  True,\n",
       "        True,  True,  True,  True,  True,  True,  True,  True,  True,\n",
       "        True,  True,  True,  True,  True,  True,  True,  True,  True,\n",
       "        True,  True,  True,  True,  True,  True,  True, False, False,\n",
       "       False, False, False, False, False, False, False, False, False,\n",
       "       False, False, False, False, False, False, False, False, False,\n",
       "       False, False, False, False, False, False, False, False, False,\n",
       "       False, False, False, False, False, False, False, False, False,\n",
       "       False, False, False, False, False, False, False, False, False,\n",
       "       False, False, False, False, False, False, False, False, False,\n",
       "       False, False, False, False, False, False, False, False, False,\n",
       "       False])"
      ]
     },
     "execution_count": 191,
     "metadata": {},
     "output_type": "execute_result"
    }
   ],
   "source": [
    "np.abs(walk)>=20"
   ]
  },
  {
   "cell_type": "code",
   "execution_count": 193,
   "id": "7eab875e-5857-4c0c-9ac3-7de5bd988426",
   "metadata": {},
   "outputs": [
    {
     "data": {
      "text/plain": [
       "599"
      ]
     },
     "execution_count": 193,
     "metadata": {},
     "output_type": "execute_result"
    }
   ],
   "source": [
    "(np.abs(walk)>=20).argmax()"
   ]
  },
  {
   "cell_type": "markdown",
   "id": "aac8ba71-6177-419a-b4f3-2ae32841a4de",
   "metadata": {},
   "source": [
    "<h3>Many random walks at once</h3>"
   ]
  },
  {
   "cell_type": "code",
   "execution_count": 194,
   "id": "b11846db-6e9e-4479-94b9-888d0fbf204e",
   "metadata": {},
   "outputs": [],
   "source": [
    "nwalks=5000\n",
    "nsteps=1000"
   ]
  },
  {
   "cell_type": "code",
   "execution_count": 195,
   "id": "af98c309-4e94-4313-8eef-f70c700ce66a",
   "metadata": {},
   "outputs": [],
   "source": [
    "draws=np.random.randint(0,2,size=(nwalks,nsteps))\n",
    "steps=np.where(draws>0,1,-1)"
   ]
  },
  {
   "cell_type": "code",
   "execution_count": 196,
   "id": "7bb01eac-830e-40d2-b863-77407517a4eb",
   "metadata": {},
   "outputs": [
    {
     "data": {
      "text/plain": [
       "array([[  1,   0,  -1, ...,  16,  17,  18],\n",
       "       [ -1,  -2,  -1, ...,   2,   3,   4],\n",
       "       [ -1,   0,   1, ...,   6,   7,   8],\n",
       "       ...,\n",
       "       [  1,   2,   3, ...,  -4,  -5,  -6],\n",
       "       [  1,   0,  -1, ..., -34, -33, -32],\n",
       "       [  1,   2,   3, ..., -24, -23, -22]])"
      ]
     },
     "execution_count": 196,
     "metadata": {},
     "output_type": "execute_result"
    }
   ],
   "source": [
    "walks=steps.cumsum(axis=1)\n",
    "walks"
   ]
  },
  {
   "cell_type": "code",
   "execution_count": 199,
   "id": "b52cb443-13ba-4201-8836-50e10273b0fb",
   "metadata": {},
   "outputs": [
    {
     "data": {
      "text/plain": [
       "(5000, 1000)"
      ]
     },
     "execution_count": 199,
     "metadata": {},
     "output_type": "execute_result"
    }
   ],
   "source": [
    "np.shape(walks)"
   ]
  },
  {
   "cell_type": "code",
   "execution_count": 200,
   "id": "8e6f71dc-7acb-471f-940e-da9ad1adb1c9",
   "metadata": {},
   "outputs": [
    {
     "data": {
      "text/plain": [
       "116"
      ]
     },
     "execution_count": 200,
     "metadata": {},
     "output_type": "execute_result"
    }
   ],
   "source": [
    "walks.max()"
   ]
  },
  {
   "cell_type": "code",
   "execution_count": 201,
   "id": "e18129f3-bd41-47c7-a2cb-8be4f51391e7",
   "metadata": {},
   "outputs": [
    {
     "data": {
      "text/plain": [
       "-156"
      ]
     },
     "execution_count": 201,
     "metadata": {},
     "output_type": "execute_result"
    }
   ],
   "source": [
    "walks.min()"
   ]
  },
  {
   "cell_type": "markdown",
   "id": "39385ffb-2fab-4357-9f67-fec98a9dabed",
   "metadata": {},
   "source": [
    "check if reach 30"
   ]
  },
  {
   "cell_type": "code",
   "execution_count": 203,
   "id": "7a252f4a-a7b9-4772-b71a-4c0ccde28c37",
   "metadata": {},
   "outputs": [
    {
     "data": {
      "text/plain": [
       "array([ True,  True,  True, ..., False,  True,  True])"
      ]
     },
     "execution_count": 203,
     "metadata": {},
     "output_type": "execute_result"
    }
   ],
   "source": [
    "hits30=(np.abs(walks)>=30).any(1)\n",
    "hits30"
   ]
  },
  {
   "cell_type": "markdown",
   "id": "1e54770f-53e1-4e52-ace3-e31ccb09d857",
   "metadata": {},
   "source": [
    "number that reach 30"
   ]
  },
  {
   "cell_type": "code",
   "execution_count": 204,
   "id": "04a53ee0-5475-460a-bdc3-1be9d8add391",
   "metadata": {},
   "outputs": [
    {
     "data": {
      "text/plain": [
       "3434"
      ]
     },
     "execution_count": 204,
     "metadata": {},
     "output_type": "execute_result"
    }
   ],
   "source": [
    "hits30.sum()"
   ]
  },
  {
   "cell_type": "code",
   "execution_count": 205,
   "id": "6af7c9c7-eb7e-43b7-b6e1-627c4a238f3d",
   "metadata": {},
   "outputs": [],
   "source": [
    "crossing_times=(np.abs(walks[hits30])>=30).argmax(axis=1)"
   ]
  },
  {
   "cell_type": "code",
   "execution_count": 206,
   "id": "16ca463a-84ef-4748-85a6-cdd04ddb6e2f",
   "metadata": {},
   "outputs": [
    {
     "data": {
      "text/plain": [
       "501.9732090856144"
      ]
     },
     "execution_count": 206,
     "metadata": {},
     "output_type": "execute_result"
    }
   ],
   "source": [
    "crossing_times.mean()"
   ]
  },
  {
   "cell_type": "code",
   "execution_count": null,
   "id": "f055cd2c-190f-4de4-877c-2e1d142899cd",
   "metadata": {},
   "outputs": [],
   "source": []
  }
 ],
 "metadata": {
  "kernelspec": {
   "display_name": "Python 3 (ipykernel)",
   "language": "python",
   "name": "python3"
  },
  "language_info": {
   "codemirror_mode": {
    "name": "ipython",
    "version": 3
   },
   "file_extension": ".py",
   "mimetype": "text/x-python",
   "name": "python",
   "nbconvert_exporter": "python",
   "pygments_lexer": "ipython3",
   "version": "3.10.1"
  }
 },
 "nbformat": 4,
 "nbformat_minor": 5
}
