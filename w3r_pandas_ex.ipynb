{
 "cells": [
  {
   "cell_type": "markdown",
   "id": "d1df1a67-929e-4b7c-96f8-8bb740b62797",
   "metadata": {},
   "source": [
    "<h1>w3resources Pandas</h1>"
   ]
  },
  {
   "cell_type": "markdown",
   "id": "804d902e-a2d1-46d5-89ae-995257b7e51a",
   "metadata": {},
   "source": [
    "exercises for Pandas from w3resources: https://www.w3resource.com/python-exercises/pandas/index.php"
   ]
  },
  {
   "cell_type": "markdown",
   "id": "9ab0ec51-0185-4849-94cd-77df413fa690",
   "metadata": {},
   "source": [
    "<h2>Series</h2>"
   ]
  },
  {
   "cell_type": "code",
   "execution_count": 1,
   "id": "40b4af02-d93e-4418-84d1-b05117ea730f",
   "metadata": {},
   "outputs": [],
   "source": [
    "import pandas as pd\n",
    "import numpy as np"
   ]
  },
  {
   "cell_type": "code",
   "execution_count": 2,
   "id": "c42d2bc0-bca2-48dc-8205-d782fd6d3ff8",
   "metadata": {},
   "outputs": [
    {
     "data": {
      "text/plain": [
       "0    0\n",
       "1    1\n",
       "2    2\n",
       "3    3\n",
       "4    4\n",
       "dtype: int64"
      ]
     },
     "execution_count": 2,
     "metadata": {},
     "output_type": "execute_result"
    }
   ],
   "source": [
    "# 1\n",
    "ser1=pd.Series(np.arange(5))\n",
    "ser1"
   ]
  },
  {
   "cell_type": "code",
   "execution_count": 3,
   "id": "ec89a969-b199-47b6-b7e7-962f114eb509",
   "metadata": {},
   "outputs": [
    {
     "name": "stdout",
     "output_type": "stream",
     "text": [
      "[0, 1, 2, 3, 4]\n",
      "<class 'pandas.core.series.Series'>\n",
      "[0, 1, 2, 3, 4]\n",
      "<class 'list'>\n"
     ]
    }
   ],
   "source": [
    "# 2\n",
    "ser1_list=list(ser1)\n",
    "print(ser1_list)\n",
    "# sol\n",
    "print(type(ser1))\n",
    "ser1_list=ser1.tolist()\n",
    "print(ser1_list)\n",
    "print(type(ser1_list))\n"
   ]
  },
  {
   "cell_type": "code",
   "execution_count": 4,
   "id": "c89512cd-3829-4e4a-a81d-c3821f1a60ed",
   "metadata": {},
   "outputs": [
    {
     "name": "stdout",
     "output_type": "stream",
     "text": [
      "0     2\n",
      "1     4\n",
      "2     6\n",
      "3     8\n",
      "4    10\n",
      "dtype: int64 0     1\n",
      "1     3\n",
      "2     5\n",
      "3     7\n",
      "4    10\n",
      "dtype: int64\n",
      "0     3\n",
      "1     7\n",
      "2    11\n",
      "3    15\n",
      "4    20\n",
      "dtype: int64\n",
      "0    1\n",
      "1    1\n",
      "2    1\n",
      "3    1\n",
      "4    0\n",
      "dtype: int64\n",
      "0      2\n",
      "1     12\n",
      "2     30\n",
      "3     56\n",
      "4    100\n",
      "dtype: int64\n",
      "0    2.000000\n",
      "1    1.333333\n",
      "2    1.200000\n",
      "3    1.142857\n",
      "4    1.000000\n",
      "dtype: float64\n"
     ]
    }
   ],
   "source": [
    "# 3\n",
    "ser1=pd.Series([2, 4, 6, 8, 10])\n",
    "ser2=pd.Series([1, 3, 5, 7, 10])\n",
    "print(ser1,ser2)\n",
    "print(ser1+ser2)\n",
    "print(ser1-ser2)\n",
    "print(ser1*ser2)\n",
    "print(ser1/ser2)"
   ]
  },
  {
   "cell_type": "code",
   "execution_count": 5,
   "id": "4497cd63-4753-4d50-b80f-c254f29b7b81",
   "metadata": {},
   "outputs": [
    {
     "name": "stdout",
     "output_type": "stream",
     "text": [
      "0    False\n",
      "1    False\n",
      "2    False\n",
      "3    False\n",
      "4     True\n",
      "dtype: bool\n",
      "0     True\n",
      "1     True\n",
      "2     True\n",
      "3     True\n",
      "4    False\n",
      "dtype: bool\n",
      "0    False\n",
      "1    False\n",
      "2    False\n",
      "3    False\n",
      "4    False\n",
      "dtype: bool\n"
     ]
    }
   ],
   "source": [
    "# 4\n",
    "ser1=pd.Series([2, 4, 6, 8, 10])\n",
    "ser2=pd.Series([1, 3, 5, 7, 10])\n",
    "print(ser1==ser2)\n",
    "print(ser1>ser2)\n",
    "print(ser1<ser2)"
   ]
  },
  {
   "cell_type": "code",
   "execution_count": 6,
   "id": "772cdd42-1fa2-45a8-813b-06febb1435d6",
   "metadata": {},
   "outputs": [
    {
     "name": "stdout",
     "output_type": "stream",
     "text": [
      "a    100\n",
      "b    200\n",
      "c    300\n",
      "d    400\n",
      "e    800\n",
      "dtype: int64\n"
     ]
    }
   ],
   "source": [
    "# 5\n",
    "dict1={'a': 100, 'b': 200, 'c': 300, 'd': 400, 'e': 800}\n",
    "ser_d=pd.Series(dict1)\n",
    "print(ser_d)"
   ]
  },
  {
   "cell_type": "code",
   "execution_count": 7,
   "id": "a8cc33a9-2a4a-475c-84bc-a3dd098476bb",
   "metadata": {},
   "outputs": [
    {
     "name": "stdout",
     "output_type": "stream",
     "text": [
      "[10 20 30 40 50]\n",
      "0    10\n",
      "1    20\n",
      "2    30\n",
      "3    40\n",
      "4    50\n",
      "dtype: int64\n"
     ]
    }
   ],
   "source": [
    "# 6\n",
    "arr1=np.array([10, 20, 30, 40, 50])\n",
    "print(arr1)\n",
    "ser_a=pd.Series(arr1)\n",
    "print(ser_a)"
   ]
  },
  {
   "cell_type": "code",
   "execution_count": 8,
   "id": "1e4c5a53-eb45-4daa-a277-2bb7ac5c42b3",
   "metadata": {},
   "outputs": [
    {
     "name": "stdout",
     "output_type": "stream",
     "text": [
      "0       100\n",
      "1       200\n",
      "2    python\n",
      "3    300.12\n",
      "4       400\n",
      "dtype: object\n",
      "0    100.00\n",
      "1    200.00\n",
      "2       NaN\n",
      "3    300.12\n",
      "4    400.00\n",
      "dtype: float64\n"
     ]
    }
   ],
   "source": [
    "# 7\n",
    "ser1=pd.Series([100,200,'python',300.12,400])\n",
    "#ser2=ser1.astype(float)\n",
    "print(ser1)\n",
    "#print(ser2)\n",
    "# sol\n",
    "ser2=pd.to_numeric(ser1, errors='coerce')\n",
    "print(ser2)"
   ]
  },
  {
   "cell_type": "code",
   "execution_count": 9,
   "id": "48644ec9-d0aa-4273-b2a8-575615bcde33",
   "metadata": {},
   "outputs": [
    {
     "name": "stdout",
     "output_type": "stream",
     "text": [
      "   col1  col2  col3\n",
      "0     0     1     2\n",
      "1     3     4     5\n",
      "2     6     7     8\n",
      "3     9    10    11\n",
      "4    12    13    14\n",
      "0     0\n",
      "1     3\n",
      "2     6\n",
      "3     9\n",
      "4    12\n",
      "Name: col1, dtype: int64\n",
      "<class 'pandas.core.series.Series'>\n"
     ]
    }
   ],
   "source": [
    "# 8\n",
    "df1=pd.DataFrame(np.arange(15).reshape(5,3), columns=['col1','col2','col3'])\n",
    "print(df1)\n",
    "ser1=pd.Series(df1['col1'])\n",
    "print(ser1)\n",
    "print(type(ser1))"
   ]
  },
  {
   "cell_type": "code",
   "execution_count": 10,
   "id": "c4aee143-974f-4523-a2a6-0f8c7679d296",
   "metadata": {},
   "outputs": [
    {
     "name": "stdout",
     "output_type": "stream",
     "text": [
      "[100 200 'python' 300.12 400]\n"
     ]
    }
   ],
   "source": [
    "# 9\n",
    "ser1=pd.Series([100,200,'python',300.12,400])\n",
    "arr1=np.array(ser1)\n",
    "print(arr1)"
   ]
  },
  {
   "cell_type": "code",
   "execution_count": 11,
   "id": "24e0f4b4-8346-4c16-99d1-4a39fc03efed",
   "metadata": {},
   "outputs": [
    {
     "name": "stdout",
     "output_type": "stream",
     "text": [
      "0    [red, green, white]\n",
      "1           [red, black]\n",
      "2                 yellow\n",
      "dtype: object\n",
      "0       red\n",
      "1     green\n",
      "2     white\n",
      "3       red\n",
      "4     black\n",
      "5    yellow\n",
      "dtype: object\n"
     ]
    }
   ],
   "source": [
    "# 10\n",
    "ser1=pd.Series([['red','green','white'],['red','black'],'yellow'])\n",
    "print(ser1)\n",
    "# sol\n",
    "ser1=ser1.apply(pd.Series).stack().reset_index(drop=True)\n",
    "print(ser1)"
   ]
  },
  {
   "cell_type": "code",
   "execution_count": 12,
   "id": "e4589368-5f01-4daa-8777-ec3016b9b72a",
   "metadata": {},
   "outputs": [
    {
     "name": "stdout",
     "output_type": "stream",
     "text": [
      "0    0       100\\n1       200\\n2    python\\n3    30...\n",
      "dtype: object\n",
      "<class 'pandas.core.series.Series'>\n",
      "0    0       100\\n1       200\\n2    python\\n3    30...\n",
      "dtype: object\n",
      "0       100\n",
      "1       200\n",
      "3    300.12\n",
      "4       400\n",
      "2    python\n",
      "dtype: object\n"
     ]
    }
   ],
   "source": [
    "# 11\n",
    "ser1=pd.Series([100,200,'python',300.12,400])\n",
    "ser1=pd.Series(ser1.to_string())\n",
    "print(ser1)\n",
    "print(type(ser1))\n",
    "print(ser1.sort_values())\n",
    "# sol\n",
    "s = pd.Series(['100', '200', 'python', '300.12', '400'])\n",
    "print(s.sort_values())"
   ]
  },
  {
   "cell_type": "code",
   "execution_count": 13,
   "id": "78ca185d-1aa0-415f-8362-f85ca0897fbd",
   "metadata": {},
   "outputs": [
    {
     "name": "stdout",
     "output_type": "stream",
     "text": [
      "0       100\n",
      "1       200\n",
      "2    python\n",
      "3    300.12\n",
      "4       400\n",
      "0       500\n",
      "1       php\n",
      "dtype: object\n"
     ]
    }
   ],
   "source": [
    "# 12\n",
    "ser1=pd.Series([100,200,'python',300.12,400])\n",
    "ser2=pd.Series([500,'php'])\n",
    "print(ser1.append(ser2))"
   ]
  },
  {
   "cell_type": "code",
   "execution_count": 14,
   "id": "19de4ae2-eb12-4a66-9507-9d247972a523",
   "metadata": {},
   "outputs": [
    {
     "name": "stdout",
     "output_type": "stream",
     "text": [
      "0      0\n",
      "1      1\n",
      "2      2\n",
      "3      3\n",
      "4      4\n",
      "5      5\n",
      "6      6\n",
      "7      7\n",
      "8      8\n",
      "9      9\n",
      "10    10\n",
      "dtype: int64\n",
      "0    0\n",
      "1    1\n",
      "2    2\n",
      "3    3\n",
      "4    4\n",
      "5    5\n",
      "dtype: int64\n"
     ]
    }
   ],
   "source": [
    "# 13\n",
    "ser1=pd.Series(np.arange(11))\n",
    "print(ser1)\n",
    "ser2=ser1[ser1<6]\n",
    "print(ser2)"
   ]
  },
  {
   "cell_type": "code",
   "execution_count": 15,
   "id": "1e4f3254-b7bd-4bf2-8786-f759f6332d05",
   "metadata": {},
   "outputs": [
    {
     "name": "stdout",
     "output_type": "stream",
     "text": [
      "a    1\n",
      "b    2\n",
      "c    3\n",
      "d    4\n",
      "e    5\n",
      "dtype: int64\n",
      "b    2\n",
      "a    1\n",
      "c    3\n",
      "d    4\n",
      "e    5\n",
      "dtype: int64\n",
      "b    2\n",
      "a    1\n",
      "c    3\n",
      "d    4\n",
      "e    5\n",
      "dtype: int64\n"
     ]
    }
   ],
   "source": [
    "# 14\n",
    "ser1=pd.Series(range(1,6),index=['a','b','c','d','e'])\n",
    "print(ser1)\n",
    "order=['b','a','c','d','e']\n",
    "print(ser1[order])\n",
    "# sol\n",
    "ser1=ser1.reindex(index=order)\n",
    "print(ser1)"
   ]
  },
  {
   "cell_type": "code",
   "execution_count": 16,
   "id": "cec276bd-31ca-40ac-94a8-92fe5cc63241",
   "metadata": {},
   "outputs": [
    {
     "name": "stdout",
     "output_type": "stream",
     "text": [
      "4.818181818181818 2.522624895547565\n"
     ]
    }
   ],
   "source": [
    "# 15\n",
    "ser1=pd.Series([1,2,3,4,5,6,7,8,9,5,3])\n",
    "print(ser1.mean(),ser1.std())"
   ]
  },
  {
   "cell_type": "code",
   "execution_count": null,
   "id": "327bc6c5-ac44-469d-80c9-e68a02e47392",
   "metadata": {},
   "outputs": [],
   "source": [
    "# 16\n",
    "ser1=pd.Series([1,2,3,4,5])\n",
    "ser2=pd.Series([2,4,6,8,10])"
   ]
  }
 ],
 "metadata": {
  "kernelspec": {
   "display_name": "Python 3 (ipykernel)",
   "language": "python",
   "name": "python3"
  },
  "language_info": {
   "codemirror_mode": {
    "name": "ipython",
    "version": 3
   },
   "file_extension": ".py",
   "mimetype": "text/x-python",
   "name": "python",
   "nbconvert_exporter": "python",
   "pygments_lexer": "ipython3",
   "version": "3.10.1"
  }
 },
 "nbformat": 4,
 "nbformat_minor": 5
}
